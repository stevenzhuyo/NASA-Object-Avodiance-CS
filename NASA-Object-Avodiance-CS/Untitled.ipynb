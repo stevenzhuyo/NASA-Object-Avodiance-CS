{
 "cells": [
  {
   "cell_type": "code",
   "execution_count": 2,
   "id": "1b287309-4816-4c14-bd37-646580a9a42a",
   "metadata": {},
   "outputs": [],
   "source": [
    "import numpy as np\n",
    "import laspy as lp\n",
    "import pandas as pd\n",
    "import trimesh\n",
    "from plyfile import PlyData, PlyElement, PlyProperty"
   ]
  },
  {
   "cell_type": "code",
   "execution_count": 14,
   "id": "5535180f-80ff-4064-af87-7c78fbe2e68b",
   "metadata": {},
   "outputs": [
    {
     "data": {
      "text/html": [
       "<div>\n",
       "<style scoped>\n",
       "    .dataframe tbody tr th:only-of-type {\n",
       "        vertical-align: middle;\n",
       "    }\n",
       "\n",
       "    .dataframe tbody tr th {\n",
       "        vertical-align: top;\n",
       "    }\n",
       "\n",
       "    .dataframe thead th {\n",
       "        text-align: right;\n",
       "    }\n",
       "</style>\n",
       "<table border=\"1\" class=\"dataframe\">\n",
       "  <thead>\n",
       "    <tr style=\"text-align: right;\">\n",
       "      <th></th>\n",
       "      <th>X</th>\n",
       "      <th>Y</th>\n",
       "      <th>Z</th>\n",
       "      <th>reflectance</th>\n",
       "    </tr>\n",
       "  </thead>\n",
       "  <tbody>\n",
       "    <tr>\n",
       "      <th>0</th>\n",
       "      <td>251.130005</td>\n",
       "      <td>272.679993</td>\n",
       "      <td>47.250000</td>\n",
       "      <td>0.0</td>\n",
       "    </tr>\n",
       "    <tr>\n",
       "      <th>1</th>\n",
       "      <td>252.289993</td>\n",
       "      <td>271.709991</td>\n",
       "      <td>47.180000</td>\n",
       "      <td>0.0</td>\n",
       "    </tr>\n",
       "    <tr>\n",
       "      <th>2</th>\n",
       "      <td>252.500000</td>\n",
       "      <td>272.320007</td>\n",
       "      <td>47.240002</td>\n",
       "      <td>0.0</td>\n",
       "    </tr>\n",
       "    <tr>\n",
       "      <th>3</th>\n",
       "      <td>255.300003</td>\n",
       "      <td>271.609985</td>\n",
       "      <td>47.169998</td>\n",
       "      <td>0.0</td>\n",
       "    </tr>\n",
       "    <tr>\n",
       "      <th>4</th>\n",
       "      <td>250.850006</td>\n",
       "      <td>272.040009</td>\n",
       "      <td>47.189999</td>\n",
       "      <td>0.0</td>\n",
       "    </tr>\n",
       "    <tr>\n",
       "      <th>...</th>\n",
       "      <td>...</td>\n",
       "      <td>...</td>\n",
       "      <td>...</td>\n",
       "      <td>...</td>\n",
       "    </tr>\n",
       "    <tr>\n",
       "      <th>14394744</th>\n",
       "      <td>700.270020</td>\n",
       "      <td>257.100006</td>\n",
       "      <td>95.129997</td>\n",
       "      <td>0.0</td>\n",
       "    </tr>\n",
       "    <tr>\n",
       "      <th>14394745</th>\n",
       "      <td>700.200012</td>\n",
       "      <td>254.889999</td>\n",
       "      <td>94.949997</td>\n",
       "      <td>0.0</td>\n",
       "    </tr>\n",
       "    <tr>\n",
       "      <th>14394746</th>\n",
       "      <td>700.559998</td>\n",
       "      <td>250.550003</td>\n",
       "      <td>94.669998</td>\n",
       "      <td>0.0</td>\n",
       "    </tr>\n",
       "    <tr>\n",
       "      <th>14394747</th>\n",
       "      <td>700.369995</td>\n",
       "      <td>251.259995</td>\n",
       "      <td>93.320000</td>\n",
       "      <td>0.0</td>\n",
       "    </tr>\n",
       "    <tr>\n",
       "      <th>14394748</th>\n",
       "      <td>700.789978</td>\n",
       "      <td>259.839996</td>\n",
       "      <td>94.669998</td>\n",
       "      <td>0.0</td>\n",
       "    </tr>\n",
       "  </tbody>\n",
       "</table>\n",
       "<p>14394749 rows × 4 columns</p>\n",
       "</div>"
      ],
      "text/plain": [
       "                   X           Y          Z  reflectance\n",
       "0         251.130005  272.679993  47.250000          0.0\n",
       "1         252.289993  271.709991  47.180000          0.0\n",
       "2         252.500000  272.320007  47.240002          0.0\n",
       "3         255.300003  271.609985  47.169998          0.0\n",
       "4         250.850006  272.040009  47.189999          0.0\n",
       "...              ...         ...        ...          ...\n",
       "14394744  700.270020  257.100006  95.129997          0.0\n",
       "14394745  700.200012  254.889999  94.949997          0.0\n",
       "14394746  700.559998  250.550003  94.669998          0.0\n",
       "14394747  700.369995  251.259995  93.320000          0.0\n",
       "14394748  700.789978  259.839996  94.669998          0.0\n",
       "\n",
       "[14394749 rows x 4 columns]"
      ]
     },
     "execution_count": 14,
     "metadata": {},
     "output_type": "execute_result"
    }
   ],
   "source": [
    "plydata = PlyData.read('DALES POINT NET Trainning/data/dales_ply/train/5085_54320.ply')\n",
    "point_data_ply = np.stack([plydata['vertex']['x'], plydata['vertex']['y'], plydata['vertex']['z'], plydata['vertex']['reflectance']], axis=0).transpose((1, 0))\n",
    "df1 = pd.DataFrame(data=point_data_ply, columns=['X','Y','Z','reflectance'])\n",
    "df1"
   ]
  },
  {
   "cell_type": "code",
   "execution_count": 15,
   "id": "8210afad-547c-4119-b7b2-62a60e50e7f4",
   "metadata": {},
   "outputs": [
    {
     "data": {
      "text/plain": [
       "X              750.059998\n",
       "Y              750.059998\n",
       "Z              135.899994\n",
       "reflectance      0.000000\n",
       "dtype: float32"
      ]
     },
     "execution_count": 15,
     "metadata": {},
     "output_type": "execute_result"
    }
   ],
   "source": [
    "df1.max()"
   ]
  },
  {
   "cell_type": "code",
   "execution_count": 16,
   "id": "cab62ad9-184f-412b-a84e-370d7baa5344",
   "metadata": {},
   "outputs": [
    {
     "data": {
      "text/plain": [
       "X              250.020004\n",
       "Y              250.020004\n",
       "Z               45.299999\n",
       "reflectance      0.000000\n",
       "dtype: float32"
      ]
     },
     "execution_count": 16,
     "metadata": {},
     "output_type": "execute_result"
    }
   ],
   "source": [
    "df1.min()"
   ]
  }
 ],
 "metadata": {
  "kernelspec": {
   "display_name": "Python 3 (ipykernel)",
   "language": "python",
   "name": "python3"
  },
  "language_info": {
   "codemirror_mode": {
    "name": "ipython",
    "version": 3
   },
   "file_extension": ".py",
   "mimetype": "text/x-python",
   "name": "python",
   "nbconvert_exporter": "python",
   "pygments_lexer": "ipython3",
   "version": "3.10.6"
  }
 },
 "nbformat": 4,
 "nbformat_minor": 5
}
