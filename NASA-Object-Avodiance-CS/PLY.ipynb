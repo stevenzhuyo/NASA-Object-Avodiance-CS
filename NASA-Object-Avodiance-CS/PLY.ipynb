{
 "cells": [
  {
   "cell_type": "code",
   "execution_count": 55,
   "id": "816b5bd7-eb0a-4522-92eb-75af5d4b9b98",
   "metadata": {},
   "outputs": [],
   "source": [
    "import trimesh\n",
    "import numpy as np"
   ]
  },
  {
   "cell_type": "code",
   "execution_count": 56,
   "id": "70caa53c-1e2b-475d-996f-56c23dcb85d4",
   "metadata": {},
   "outputs": [
    {
     "ename": "ValueError",
     "evalue": "File type: las not supported",
     "output_type": "error",
     "traceback": [
      "\u001b[0;31m---------------------------------------------------------------------------\u001b[0m",
      "\u001b[0;31mValueError\u001b[0m                                Traceback (most recent call last)",
      "Input \u001b[0;32mIn [63]\u001b[0m, in \u001b[0;36m<cell line: 1>\u001b[0;34m()\u001b[0m\n\u001b[0;32m----> 1\u001b[0m mesh \u001b[38;5;241m=\u001b[39m \u001b[43mtrimesh\u001b[49m\u001b[38;5;241;43m.\u001b[39;49m\u001b[43mload\u001b[49m\u001b[43m(\u001b[49m\u001b[38;5;124;43m\"\u001b[39;49m\u001b[38;5;124;43mDALES POINT NET Trainning/data/dales_las/train/5080_54435.las\u001b[39;49m\u001b[38;5;124;43m\"\u001b[39;49m\u001b[43m)\u001b[49m\n",
      "File \u001b[0;32m~/miniforge3/lib/python3.10/site-packages/trimesh/exchange/load.py:148\u001b[0m, in \u001b[0;36mload\u001b[0;34m(file_obj, file_type, resolver, force, **kwargs)\u001b[0m\n\u001b[1;32m    146\u001b[0m             load_path()\n\u001b[1;32m    147\u001b[0m         \u001b[38;5;28;01melse\u001b[39;00m:\n\u001b[0;32m--> 148\u001b[0m             \u001b[38;5;28;01mraise\u001b[39;00m \u001b[38;5;167;01mValueError\u001b[39;00m(\u001b[38;5;124m'\u001b[39m\u001b[38;5;124mFile type: \u001b[39m\u001b[38;5;132;01m%s\u001b[39;00m\u001b[38;5;124m not supported\u001b[39m\u001b[38;5;124m'\u001b[39m \u001b[38;5;241m%\u001b[39m\n\u001b[1;32m    149\u001b[0m                              file_type)\n\u001b[1;32m    150\u001b[0m \u001b[38;5;28;01mfinally\u001b[39;00m:\n\u001b[1;32m    151\u001b[0m     \u001b[38;5;66;03m# close any opened files even if we crashed out\u001b[39;00m\n\u001b[1;32m    152\u001b[0m     \u001b[38;5;28;01mif\u001b[39;00m opened:\n",
      "\u001b[0;31mValueError\u001b[0m: File type: las not supported"
     ]
    }
   ],
   "source": [
    "mesh = trimesh.load(\"DALES POINT NET Trainning/data/dales_ply/train/5080_54435.ply\")"
   ]
  },
  {
   "cell_type": "code",
   "execution_count": 57,
   "id": "9aeeb22e-3c2d-4f20-8ff5-8529c3bf219e",
   "metadata": {},
   "outputs": [
    {
     "data": {
      "text/plain": [
       "TrackedArray([], dtype=float64)"
      ]
     },
     "execution_count": 57,
     "metadata": {},
     "output_type": "execute_result"
    }
   ],
   "source": [
    "mesh.colors"
   ]
  },
  {
   "cell_type": "code",
   "execution_count": 67,
   "id": "fccf5e9e-00c5-455e-b063-04765e268d53",
   "metadata": {},
   "outputs": [
    {
     "data": {
      "text/plain": [
       "{'_ply_raw': OrderedDict([('vertex',\n",
       "               {'length': 11345691,\n",
       "                'properties': OrderedDict([('x', '<f4'),\n",
       "                             ('y', '<f4'),\n",
       "                             ('z', '<f4'),\n",
       "                             ('reflectance', '<f4'),\n",
       "                             ('class', '<f4')]),\n",
       "                'data': {'x': array([[251.605],\n",
       "                        [252.665],\n",
       "                        [250.555],\n",
       "                        ...,\n",
       "                        [750.035],\n",
       "                        [750.045],\n",
       "                        [750.035]], dtype=float32),\n",
       "                 'y': array([[250.47],\n",
       "                        [250.23],\n",
       "                        [250.77],\n",
       "                        ...,\n",
       "                        [515.77],\n",
       "                        [504.98],\n",
       "                        [437.26]], dtype=float32),\n",
       "                 'z': array([[38.9 ],\n",
       "                        [38.87],\n",
       "                        [38.9 ],\n",
       "                        ...,\n",
       "                        [39.16],\n",
       "                        [38.82],\n",
       "                        [38.17]], dtype=float32),\n",
       "                 'reflectance': array([[0.],\n",
       "                        [0.],\n",
       "                        [0.],\n",
       "                        ...,\n",
       "                        [0.],\n",
       "                        [0.],\n",
       "                        [0.]], dtype=float32),\n",
       "                 'class': array([[1.],\n",
       "                        [1.],\n",
       "                        [1.],\n",
       "                        ...,\n",
       "                        [2.],\n",
       "                        [1.],\n",
       "                        [1.]], dtype=float32)}})]),\n",
       " 'file_path': '/Users/stevenzhu/Desktop/NASA-Object-Avodiance-CS/DALES POINT NET Trainning/data/dales_ply/train/5080_54435.ply',\n",
       " 'file_name': '5080_54435.ply'}"
      ]
     },
     "execution_count": 67,
     "metadata": {},
     "output_type": "execute_result"
    }
   ],
   "source": [
    "mesh.metadata"
   ]
  },
  {
   "cell_type": "code",
   "execution_count": 52,
   "id": "5542ee13-8d7a-4c2f-9207-edee42207a01",
   "metadata": {},
   "outputs": [
    {
     "data": {
      "text/plain": [
       "<function vedo.colors.color_map(value, name='jet', vmin=None, vmax=None)>"
      ]
     },
     "execution_count": 52,
     "metadata": {},
     "output_type": "execute_result"
    }
   ],
   "source": []
  },
  {
   "cell_type": "code",
   "execution_count": 61,
   "id": "46003302-678c-4c92-9bc3-b2ab96822f45",
   "metadata": {},
   "outputs": [
    {
     "data": {
      "text/plain": [
       "<trimesh.PointCloud(vertices.shape=(11345691, 3))>"
      ]
     },
     "execution_count": 61,
     "metadata": {},
     "output_type": "execute_result"
    }
   ],
   "source": [
    "mesht"
   ]
  },
  {
   "cell_type": "code",
   "execution_count": 62,
   "id": "db7eb93b-95d8-48ad-8d7e-3ed40aeafd45",
   "metadata": {},
   "outputs": [
    {
     "data": {
      "text/plain": [
       "TrackedArray([[251.60499573, 250.47000122,  38.90000153],\n",
       "              [252.66499329, 250.22999573,  38.86999893],\n",
       "              [250.55499268, 250.77000427,  38.90000153],\n",
       "              ...,\n",
       "              [750.03497314, 515.77001953,  39.15999985],\n",
       "              [750.04498291, 504.98001099,  38.81999969],\n",
       "              [750.03497314, 437.26000977,  38.16999817]])"
      ]
     },
     "execution_count": 62,
     "metadata": {},
     "output_type": "execute_result"
    }
   ],
   "source": [
    "mesh.vertices."
   ]
  },
  {
   "cell_type": "code",
   "execution_count": 60,
   "id": "49983375-9a39-41ae-9f89-1e469a1a4687",
   "metadata": {},
   "outputs": [
    {
     "ename": "ValueError",
     "evalue": "setting an array element with a sequence.",
     "output_type": "error",
     "traceback": [
      "\u001b[0;31m---------------------------------------------------------------------------\u001b[0m",
      "\u001b[0;31mTypeError\u001b[0m                                 Traceback (most recent call last)",
      "\u001b[0;31mTypeError\u001b[0m: float() argument must be a string or a real number, not 'PointCloud'",
      "\nThe above exception was the direct cause of the following exception:\n",
      "\u001b[0;31mValueError\u001b[0m                                Traceback (most recent call last)",
      "Input \u001b[0;32mIn [60]\u001b[0m, in \u001b[0;36m<cell line: 1>\u001b[0;34m()\u001b[0m\n\u001b[0;32m----> 1\u001b[0m mesh2 \u001b[38;5;241m=\u001b[39m \u001b[43mtrimesh\u001b[49m\u001b[38;5;241;43m.\u001b[39;49m\u001b[43mpoints\u001b[49m\u001b[38;5;241;43m.\u001b[39;49m\u001b[43mPointCloud\u001b[49m\u001b[43m(\u001b[49m\u001b[43mmesh\u001b[49m\u001b[43m)\u001b[49m\n\u001b[1;32m      2\u001b[0m mesh2\n",
      "File \u001b[0;32m~/miniforge3/lib/python3.10/site-packages/trimesh/points.py:428\u001b[0m, in \u001b[0;36mPointCloud.__init__\u001b[0;34m(self, vertices, colors, metadata, **kwargs)\u001b[0m\n\u001b[1;32m    425\u001b[0m     \u001b[38;5;28mself\u001b[39m\u001b[38;5;241m.\u001b[39mmetadata\u001b[38;5;241m.\u001b[39mupdate(metadata)\n\u001b[1;32m    427\u001b[0m \u001b[38;5;66;03m# load vertices\u001b[39;00m\n\u001b[0;32m--> 428\u001b[0m \u001b[38;5;28mself\u001b[39m\u001b[38;5;241m.\u001b[39mvertices \u001b[38;5;241m=\u001b[39m vertices\n\u001b[1;32m    430\u001b[0m \u001b[38;5;28;01mif\u001b[39;00m \u001b[38;5;124m'\u001b[39m\u001b[38;5;124mvertex_colors\u001b[39m\u001b[38;5;124m'\u001b[39m \u001b[38;5;129;01min\u001b[39;00m kwargs \u001b[38;5;129;01mand\u001b[39;00m colors \u001b[38;5;129;01mis\u001b[39;00m \u001b[38;5;28;01mNone\u001b[39;00m:\n\u001b[1;32m    431\u001b[0m     colors \u001b[38;5;241m=\u001b[39m kwargs[\u001b[38;5;124m'\u001b[39m\u001b[38;5;124mvertex_colors\u001b[39m\u001b[38;5;124m'\u001b[39m]\n",
      "File \u001b[0;32m~/miniforge3/lib/python3.10/site-packages/trimesh/points.py:599\u001b[0m, in \u001b[0;36mPointCloud.vertices\u001b[0;34m(self, data)\u001b[0m\n\u001b[1;32m    596\u001b[0m     \u001b[38;5;28mself\u001b[39m\u001b[38;5;241m.\u001b[39m_data[\u001b[38;5;124m'\u001b[39m\u001b[38;5;124mvertices\u001b[39m\u001b[38;5;124m'\u001b[39m] \u001b[38;5;241m=\u001b[39m \u001b[38;5;28;01mNone\u001b[39;00m\n\u001b[1;32m    597\u001b[0m \u001b[38;5;28;01melse\u001b[39;00m:\n\u001b[1;32m    598\u001b[0m     \u001b[38;5;66;03m# we want to copy data for new object\u001b[39;00m\n\u001b[0;32m--> 599\u001b[0m     data \u001b[38;5;241m=\u001b[39m \u001b[43mnp\u001b[49m\u001b[38;5;241;43m.\u001b[39;49m\u001b[43marray\u001b[49m\u001b[43m(\u001b[49m\u001b[43mdata\u001b[49m\u001b[43m,\u001b[49m\u001b[43m \u001b[49m\u001b[43mdtype\u001b[49m\u001b[38;5;241;43m=\u001b[39;49m\u001b[43mnp\u001b[49m\u001b[38;5;241;43m.\u001b[39;49m\u001b[43mfloat64\u001b[49m\u001b[43m,\u001b[49m\u001b[43m \u001b[49m\u001b[43mcopy\u001b[49m\u001b[38;5;241;43m=\u001b[39;49m\u001b[38;5;28;43;01mTrue\u001b[39;49;00m\u001b[43m)\u001b[49m\n\u001b[1;32m    600\u001b[0m     \u001b[38;5;28;01mif\u001b[39;00m \u001b[38;5;129;01mnot\u001b[39;00m util\u001b[38;5;241m.\u001b[39mis_shape(data, (\u001b[38;5;241m-\u001b[39m\u001b[38;5;241m1\u001b[39m, \u001b[38;5;241m3\u001b[39m)):\n\u001b[1;32m    601\u001b[0m         \u001b[38;5;28;01mraise\u001b[39;00m \u001b[38;5;167;01mValueError\u001b[39;00m(\u001b[38;5;124m'\u001b[39m\u001b[38;5;124mPoint clouds must be (n, 3)!\u001b[39m\u001b[38;5;124m'\u001b[39m)\n",
      "\u001b[0;31mValueError\u001b[0m: setting an array element with a sequence."
     ]
    }
   ],
   "source": [
    "mesh2 = trimesh.points.PointCloud(mesh)\n",
    "mesh2"
   ]
  },
  {
   "cell_type": "code",
   "execution_count": null,
   "id": "88dfa2e4-d7a8-4051-835f-f01980752d30",
   "metadata": {},
   "outputs": [],
   "source": []
  },
  {
   "cell_type": "code",
   "execution_count": null,
   "id": "54bcdfe8-fd42-409b-86ca-ba6e5373eaf8",
   "metadata": {},
   "outputs": [],
   "source": []
  },
  {
   "cell_type": "code",
   "execution_count": null,
   "id": "331e9a53-56cd-4cb6-b7d3-9f8105046eb5",
   "metadata": {},
   "outputs": [],
   "source": []
  },
  {
   "cell_type": "code",
   "execution_count": null,
   "id": "9782d55b-f462-4314-a8e7-5e6107affe19",
   "metadata": {},
   "outputs": [],
   "source": []
  }
 ],
 "metadata": {
  "kernelspec": {
   "display_name": "Python 3 (ipykernel)",
   "language": "python",
   "name": "python3"
  },
  "language_info": {
   "codemirror_mode": {
    "name": "ipython",
    "version": 3
   },
   "file_extension": ".py",
   "mimetype": "text/x-python",
   "name": "python",
   "nbconvert_exporter": "python",
   "pygments_lexer": "ipython3",
   "version": "3.10.6"
  }
 },
 "nbformat": 4,
 "nbformat_minor": 5
}
