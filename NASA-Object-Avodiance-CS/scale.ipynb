{
 "cells": [
  {
   "cell_type": "code",
   "execution_count": 1,
   "id": "623b7d46-7505-4b63-9f57-5bcbf0ad25c2",
   "metadata": {},
   "outputs": [],
   "source": [
    "import numpy as np\n",
    "import laspy as lp\n",
    "import pandas as pd\n",
    "import trimesh\n",
    "from plyfile import PlyData, PlyElement, PlyProperty"
   ]
  },
  {
   "cell_type": "code",
   "execution_count": 77,
   "id": "afd178c3-8ec9-428b-8ef8-642268cb50ab",
   "metadata": {},
   "outputs": [],
   "source": [
    "point_cloud2=lp.read(\"DALES POINT NET Trainning/data/dales_las/train/5085_54320.las\")\n",
    "point_data2 = np.stack([point_cloud2.X, point_cloud2.Y, point_cloud2.Z, point_cloud2.classification], axis=0).transpose((1, 0))\n"
   ]
  },
  {
   "cell_type": "code",
   "execution_count": 78,
   "id": "62a94ee0-4900-4612-ab41-265e937a9d85",
   "metadata": {},
   "outputs": [],
   "source": [
    "point_cloud=lp.read(\"DALES POINT NET Trainning/data/dales_las/train/5080_54435.las\")\n",
    "point_data = np.stack([point_cloud.X, point_cloud.Y, point_cloud.Z, point_cloud.classification], axis=0).transpose((1, 0))\n"
   ]
  },
  {
   "cell_type": "code",
   "execution_count": 79,
   "id": "565c8456-5d0c-4a2c-90ee-6efac5ff0785",
   "metadata": {},
   "outputs": [
    {
     "data": {
      "text/html": [
       "<div>\n",
       "<style scoped>\n",
       "    .dataframe tbody tr th:only-of-type {\n",
       "        vertical-align: middle;\n",
       "    }\n",
       "\n",
       "    .dataframe tbody tr th {\n",
       "        vertical-align: top;\n",
       "    }\n",
       "\n",
       "    .dataframe thead th {\n",
       "        text-align: right;\n",
       "    }\n",
       "</style>\n",
       "<table border=\"1\" class=\"dataframe\">\n",
       "  <thead>\n",
       "    <tr style=\"text-align: right;\">\n",
       "      <th></th>\n",
       "      <th>X</th>\n",
       "      <th>Y</th>\n",
       "      <th>Z</th>\n",
       "      <th>Class</th>\n",
       "    </tr>\n",
       "  </thead>\n",
       "  <tbody>\n",
       "    <tr>\n",
       "      <th>0</th>\n",
       "      <td>50800157</td>\n",
       "      <td>544350043</td>\n",
       "      <td>9432</td>\n",
       "      <td>1</td>\n",
       "    </tr>\n",
       "    <tr>\n",
       "      <th>1</th>\n",
       "      <td>50800263</td>\n",
       "      <td>544350019</td>\n",
       "      <td>9429</td>\n",
       "      <td>1</td>\n",
       "    </tr>\n",
       "    <tr>\n",
       "      <th>2</th>\n",
       "      <td>50800052</td>\n",
       "      <td>544350073</td>\n",
       "      <td>9432</td>\n",
       "      <td>1</td>\n",
       "    </tr>\n",
       "    <tr>\n",
       "      <th>3</th>\n",
       "      <td>50800107</td>\n",
       "      <td>544350060</td>\n",
       "      <td>9428</td>\n",
       "      <td>1</td>\n",
       "    </tr>\n",
       "    <tr>\n",
       "      <th>4</th>\n",
       "      <td>50800310</td>\n",
       "      <td>544350072</td>\n",
       "      <td>9425</td>\n",
       "      <td>1</td>\n",
       "    </tr>\n",
       "    <tr>\n",
       "      <th>...</th>\n",
       "      <td>...</td>\n",
       "      <td>...</td>\n",
       "      <td>...</td>\n",
       "      <td>...</td>\n",
       "    </tr>\n",
       "    <tr>\n",
       "      <th>11345686</th>\n",
       "      <td>50850001</td>\n",
       "      <td>544364092</td>\n",
       "      <td>9343</td>\n",
       "      <td>1</td>\n",
       "    </tr>\n",
       "    <tr>\n",
       "      <th>11345687</th>\n",
       "      <td>50850000</td>\n",
       "      <td>544362143</td>\n",
       "      <td>11274</td>\n",
       "      <td>2</td>\n",
       "    </tr>\n",
       "    <tr>\n",
       "      <th>11345688</th>\n",
       "      <td>50850000</td>\n",
       "      <td>544376573</td>\n",
       "      <td>9458</td>\n",
       "      <td>2</td>\n",
       "    </tr>\n",
       "    <tr>\n",
       "      <th>11345689</th>\n",
       "      <td>50850001</td>\n",
       "      <td>544375494</td>\n",
       "      <td>9424</td>\n",
       "      <td>1</td>\n",
       "    </tr>\n",
       "    <tr>\n",
       "      <th>11345690</th>\n",
       "      <td>50850000</td>\n",
       "      <td>544368722</td>\n",
       "      <td>9359</td>\n",
       "      <td>1</td>\n",
       "    </tr>\n",
       "  </tbody>\n",
       "</table>\n",
       "<p>11345691 rows × 4 columns</p>\n",
       "</div>"
      ],
      "text/plain": [
       "                 X          Y      Z  Class\n",
       "0         50800157  544350043   9432      1\n",
       "1         50800263  544350019   9429      1\n",
       "2         50800052  544350073   9432      1\n",
       "3         50800107  544350060   9428      1\n",
       "4         50800310  544350072   9425      1\n",
       "...            ...        ...    ...    ...\n",
       "11345686  50850001  544364092   9343      1\n",
       "11345687  50850000  544362143  11274      2\n",
       "11345688  50850000  544376573   9458      2\n",
       "11345689  50850001  544375494   9424      1\n",
       "11345690  50850000  544368722   9359      1\n",
       "\n",
       "[11345691 rows x 4 columns]"
      ]
     },
     "execution_count": 79,
     "metadata": {},
     "output_type": "execute_result"
    }
   ],
   "source": [
    "df = pd.DataFrame(data=point_data, columns=['X','Y','Z','Class'])\n",
    "df"
   ]
  },
  {
   "cell_type": "code",
   "execution_count": 80,
   "id": "0d9855ec-63bd-4cc7-b73a-21593cdd786d",
   "metadata": {},
   "outputs": [
    {
     "data": {
      "text/html": [
       "<div>\n",
       "<style scoped>\n",
       "    .dataframe tbody tr th:only-of-type {\n",
       "        vertical-align: middle;\n",
       "    }\n",
       "\n",
       "    .dataframe tbody tr th {\n",
       "        vertical-align: top;\n",
       "    }\n",
       "\n",
       "    .dataframe thead th {\n",
       "        text-align: right;\n",
       "    }\n",
       "</style>\n",
       "<table border=\"1\" class=\"dataframe\">\n",
       "  <thead>\n",
       "    <tr style=\"text-align: right;\">\n",
       "      <th></th>\n",
       "      <th>X</th>\n",
       "      <th>Y</th>\n",
       "      <th>Z</th>\n",
       "      <th>Class</th>\n",
       "    </tr>\n",
       "  </thead>\n",
       "  <tbody>\n",
       "    <tr>\n",
       "      <th>0</th>\n",
       "      <td>50850112</td>\n",
       "      <td>543202258</td>\n",
       "      <td>-105</td>\n",
       "      <td>1</td>\n",
       "    </tr>\n",
       "    <tr>\n",
       "      <th>1</th>\n",
       "      <td>50850228</td>\n",
       "      <td>543202161</td>\n",
       "      <td>-112</td>\n",
       "      <td>1</td>\n",
       "    </tr>\n",
       "    <tr>\n",
       "      <th>2</th>\n",
       "      <td>50850249</td>\n",
       "      <td>543202222</td>\n",
       "      <td>-106</td>\n",
       "      <td>1</td>\n",
       "    </tr>\n",
       "    <tr>\n",
       "      <th>3</th>\n",
       "      <td>50850529</td>\n",
       "      <td>543202151</td>\n",
       "      <td>-113</td>\n",
       "      <td>1</td>\n",
       "    </tr>\n",
       "    <tr>\n",
       "      <th>4</th>\n",
       "      <td>50850084</td>\n",
       "      <td>543202194</td>\n",
       "      <td>-111</td>\n",
       "      <td>1</td>\n",
       "    </tr>\n",
       "    <tr>\n",
       "      <th>...</th>\n",
       "      <td>...</td>\n",
       "      <td>...</td>\n",
       "      <td>...</td>\n",
       "      <td>...</td>\n",
       "    </tr>\n",
       "    <tr>\n",
       "      <th>14394744</th>\n",
       "      <td>50895026</td>\n",
       "      <td>543200700</td>\n",
       "      <td>4683</td>\n",
       "      <td>2</td>\n",
       "    </tr>\n",
       "    <tr>\n",
       "      <th>14394745</th>\n",
       "      <td>50895019</td>\n",
       "      <td>543200479</td>\n",
       "      <td>4665</td>\n",
       "      <td>2</td>\n",
       "    </tr>\n",
       "    <tr>\n",
       "      <th>14394746</th>\n",
       "      <td>50895055</td>\n",
       "      <td>543200045</td>\n",
       "      <td>4637</td>\n",
       "      <td>2</td>\n",
       "    </tr>\n",
       "    <tr>\n",
       "      <th>14394747</th>\n",
       "      <td>50895036</td>\n",
       "      <td>543200116</td>\n",
       "      <td>4502</td>\n",
       "      <td>2</td>\n",
       "    </tr>\n",
       "    <tr>\n",
       "      <th>14394748</th>\n",
       "      <td>50895078</td>\n",
       "      <td>543200974</td>\n",
       "      <td>4637</td>\n",
       "      <td>2</td>\n",
       "    </tr>\n",
       "  </tbody>\n",
       "</table>\n",
       "<p>14394749 rows × 4 columns</p>\n",
       "</div>"
      ],
      "text/plain": [
       "                 X          Y     Z  Class\n",
       "0         50850112  543202258  -105      1\n",
       "1         50850228  543202161  -112      1\n",
       "2         50850249  543202222  -106      1\n",
       "3         50850529  543202151  -113      1\n",
       "4         50850084  543202194  -111      1\n",
       "...            ...        ...   ...    ...\n",
       "14394744  50895026  543200700  4683      2\n",
       "14394745  50895019  543200479  4665      2\n",
       "14394746  50895055  543200045  4637      2\n",
       "14394747  50895036  543200116  4502      2\n",
       "14394748  50895078  543200974  4637      2\n",
       "\n",
       "[14394749 rows x 4 columns]"
      ]
     },
     "execution_count": 80,
     "metadata": {},
     "output_type": "execute_result"
    }
   ],
   "source": [
    "df2 = pd.DataFrame(data=point_data2, columns=['X','Y','Z','Class'])\n",
    "df2"
   ]
  },
  {
   "cell_type": "code",
   "execution_count": 81,
   "id": "e82fe8f7-77c4-4462-9b18-56d7d7ec0f2a",
   "metadata": {},
   "outputs": [
    {
     "data": {
      "text/plain": [
       "0           0.003160\n",
       "1           0.005279\n",
       "2           0.001060\n",
       "3           0.002160\n",
       "4           0.006219\n",
       "              ...   \n",
       "11345686    0.999940\n",
       "11345687    0.999920\n",
       "11345688    0.999920\n",
       "11345689    0.999940\n",
       "11345690    0.999920\n",
       "Name: X, Length: 11345691, dtype: float64"
      ]
     },
     "execution_count": 81,
     "metadata": {},
     "output_type": "execute_result"
    }
   ],
   "source": [
    "X_std = (df.X - df.X.min()) / (df.X.max() - df.X.min())\n",
    "X_scaled = X_std * (df.X.max() - df.X.min()) + df.X.min()\n",
    "X_std\n"
   ]
  },
  {
   "cell_type": "code",
   "execution_count": 82,
   "id": "cab980eb-f58f-4f7c-8b55-8ec7bd122c97",
   "metadata": {},
   "outputs": [],
   "source": [
    "from sklearn.preprocessing import MinMaxScaler\n",
    "scaler_x = MinMaxScaler(feature_range=(250.024994, 750.075012))\n",
    "scaler_y = MinMaxScaler(feature_range=(250.020004, 750.059998))\n",
    "scaler_z = MinMaxScaler(feature_range=(24.190001, 72.570000))\n"
   ]
  },
  {
   "cell_type": "code",
   "execution_count": 83,
   "id": "aa6c63a9-5f77-4f15-80fa-981721a0fbf9",
   "metadata": {},
   "outputs": [
    {
     "data": {
      "text/plain": [
       "array([[251.60499406, 312.53124625],\n",
       "       [252.66499409, 312.53124625],\n",
       "       [250.55499402, 312.53124625],\n",
       "       ...,\n",
       "       [750.035012  , 375.0374985 ],\n",
       "       [750.045012  , 312.53124625],\n",
       "       [750.035012  , 312.53124625]])"
      ]
     },
     "execution_count": 83,
     "metadata": {},
     "output_type": "execute_result"
    }
   ],
   "source": [
    "scaler_x.fit_transform(df[['X', 'Class']])"
   ]
  },
  {
   "cell_type": "code",
   "execution_count": 84,
   "id": "60a0bb25-af74-4fbe-a82c-d91735f5e98e",
   "metadata": {},
   "outputs": [
    {
     "data": {
      "text/plain": [
       "array([[250.47000399, 312.52500325],\n",
       "       [250.230004  , 312.52500325],\n",
       "       [250.77000399, 312.52500325],\n",
       "       ...,\n",
       "       [515.77000081, 375.0300025 ],\n",
       "       [504.98000094, 312.52500325],\n",
       "       [437.26000175, 312.52500325]])"
      ]
     },
     "execution_count": 84,
     "metadata": {},
     "output_type": "execute_result"
    }
   ],
   "source": [
    "scaler_y.fit_transform(df[['Y', 'Class']])"
   ]
  },
  {
   "cell_type": "code",
   "execution_count": 99,
   "id": "70c835fd-e8b1-4674-a06c-519abccba465",
   "metadata": {},
   "outputs": [
    {
     "data": {
      "text/plain": [
       "array([[38.9000007 , 30.23750087],\n",
       "       [38.8700007 , 30.23750087],\n",
       "       [38.9000007 , 30.23750087],\n",
       "       ...,\n",
       "       [39.16000069, 36.28500075],\n",
       "       [38.8200007 , 30.23750087],\n",
       "       [38.17000071, 30.23750087]])"
      ]
     },
     "execution_count": 99,
     "metadata": {},
     "output_type": "execute_result"
    }
   ],
   "source": [
    "scaler_z.fit_transform(df[['Z', 'Class']])"
   ]
  },
  {
   "cell_type": "code",
   "execution_count": 86,
   "id": "06d0c2dd-9c2c-4cba-9764-c156847b0dcf",
   "metadata": {},
   "outputs": [
    {
     "data": {
      "text/plain": [
       "50005"
      ]
     },
     "execution_count": 86,
     "metadata": {},
     "output_type": "execute_result"
    }
   ],
   "source": [
    "df.X.max() - df.X.min()"
   ]
  },
  {
   "cell_type": "code",
   "execution_count": 87,
   "id": "1d5c2663-1bf7-4a70-b18a-7e9bc1251f2a",
   "metadata": {},
   "outputs": [
    {
     "data": {
      "text/plain": [
       "50004"
      ]
     },
     "execution_count": 87,
     "metadata": {},
     "output_type": "execute_result"
    }
   ],
   "source": [
    "df.Y.max() - df.Y.min()"
   ]
  },
  {
   "cell_type": "code",
   "execution_count": 88,
   "id": "09338e1c-08c5-4c40-ba4b-25da79884f2b",
   "metadata": {},
   "outputs": [
    {
     "data": {
      "text/plain": [
       "4838"
      ]
     },
     "execution_count": 88,
     "metadata": {},
     "output_type": "execute_result"
    }
   ],
   "source": [
    "df.Z.max() - df.Z.min()"
   ]
  },
  {
   "cell_type": "code",
   "execution_count": 89,
   "id": "ab17a67b-e12d-4264-89b0-02753c161ded",
   "metadata": {},
   "outputs": [
    {
     "data": {
      "text/plain": [
       "9060"
      ]
     },
     "execution_count": 89,
     "metadata": {},
     "output_type": "execute_result"
    }
   ],
   "source": [
    "df2.Z.max() - df2.Z.min()"
   ]
  },
  {
   "cell_type": "code",
   "execution_count": 90,
   "id": "49017307-c633-46c5-a235-dad10a621887",
   "metadata": {},
   "outputs": [
    {
     "data": {
      "text/plain": [
       "1.8726746589499794"
      ]
     },
     "execution_count": 90,
     "metadata": {},
     "output_type": "execute_result"
    }
   ],
   "source": [
    "(df2.Z.max() - df2.Z.min()) / (df.Z.max() - df.Z.min())"
   ]
  },
  {
   "cell_type": "code",
   "execution_count": 91,
   "id": "0c88a8b2-7a63-47d3-a145-482a26d49e50",
   "metadata": {},
   "outputs": [
    {
     "data": {
      "text/plain": [
       "45.300001872674656"
      ]
     },
     "execution_count": 91,
     "metadata": {},
     "output_type": "execute_result"
    }
   ],
   "source": [
    "24.190001 * 1.8726746589499794"
   ]
  },
  {
   "cell_type": "code",
   "execution_count": 92,
   "id": "6c953ed6-faf9-4007-95c8-7c14c57ce597",
   "metadata": {},
   "outputs": [
    {
     "data": {
      "text/plain": [
       "135.9"
      ]
     },
     "execution_count": 92,
     "metadata": {},
     "output_type": "execute_result"
    }
   ],
   "source": [
    "72.570000 * 1.8726746589499794"
   ]
  },
  {
   "cell_type": "code",
   "execution_count": null,
   "id": "c7cab410-1338-45fc-892a-92ef18ac9650",
   "metadata": {},
   "outputs": [],
   "source": []
  },
  {
   "cell_type": "code",
   "execution_count": 93,
   "id": "15f21d08-48f0-4835-9670-f709d280964a",
   "metadata": {},
   "outputs": [
    {
     "data": {
      "text/plain": [
       "67.4337039150876"
      ]
     },
     "execution_count": 93,
     "metadata": {},
     "output_type": "execute_result"
    }
   ],
   "source": [
    "0.33545768538 / 0.0049746293901104365"
   ]
  },
  {
   "cell_type": "code",
   "execution_count": null,
   "id": "af1d7b96-0052-4b60-ab6b-d81ee3c99a15",
   "metadata": {},
   "outputs": [],
   "source": []
  },
  {
   "cell_type": "code",
   "execution_count": null,
   "id": "e47cae41-2b3d-4c0d-8458-effe483e1e36",
   "metadata": {},
   "outputs": [],
   "source": []
  },
  {
   "cell_type": "code",
   "execution_count": 94,
   "id": "f2f3c182-78d6-4e7a-99cd-823ee5a54807",
   "metadata": {},
   "outputs": [
    {
     "data": {
      "text/html": [
       "<div>\n",
       "<style scoped>\n",
       "    .dataframe tbody tr th:only-of-type {\n",
       "        vertical-align: middle;\n",
       "    }\n",
       "\n",
       "    .dataframe tbody tr th {\n",
       "        vertical-align: top;\n",
       "    }\n",
       "\n",
       "    .dataframe thead th {\n",
       "        text-align: right;\n",
       "    }\n",
       "</style>\n",
       "<table border=\"1\" class=\"dataframe\">\n",
       "  <thead>\n",
       "    <tr style=\"text-align: right;\">\n",
       "      <th></th>\n",
       "      <th>X</th>\n",
       "      <th>Y</th>\n",
       "      <th>Z</th>\n",
       "      <th>reflectance</th>\n",
       "    </tr>\n",
       "  </thead>\n",
       "  <tbody>\n",
       "    <tr>\n",
       "      <th>0</th>\n",
       "      <td>251.604996</td>\n",
       "      <td>250.470001</td>\n",
       "      <td>38.900002</td>\n",
       "      <td>0.0</td>\n",
       "    </tr>\n",
       "    <tr>\n",
       "      <th>1</th>\n",
       "      <td>252.664993</td>\n",
       "      <td>250.229996</td>\n",
       "      <td>38.869999</td>\n",
       "      <td>0.0</td>\n",
       "    </tr>\n",
       "    <tr>\n",
       "      <th>2</th>\n",
       "      <td>250.554993</td>\n",
       "      <td>250.770004</td>\n",
       "      <td>38.900002</td>\n",
       "      <td>0.0</td>\n",
       "    </tr>\n",
       "    <tr>\n",
       "      <th>3</th>\n",
       "      <td>251.104996</td>\n",
       "      <td>250.639999</td>\n",
       "      <td>38.860001</td>\n",
       "      <td>0.0</td>\n",
       "    </tr>\n",
       "    <tr>\n",
       "      <th>4</th>\n",
       "      <td>253.134995</td>\n",
       "      <td>250.759995</td>\n",
       "      <td>38.830002</td>\n",
       "      <td>0.0</td>\n",
       "    </tr>\n",
       "    <tr>\n",
       "      <th>...</th>\n",
       "      <td>...</td>\n",
       "      <td>...</td>\n",
       "      <td>...</td>\n",
       "      <td>...</td>\n",
       "    </tr>\n",
       "    <tr>\n",
       "      <th>11345686</th>\n",
       "      <td>750.044983</td>\n",
       "      <td>390.959991</td>\n",
       "      <td>38.009998</td>\n",
       "      <td>0.0</td>\n",
       "    </tr>\n",
       "    <tr>\n",
       "      <th>11345687</th>\n",
       "      <td>750.034973</td>\n",
       "      <td>371.470001</td>\n",
       "      <td>57.320000</td>\n",
       "      <td>0.0</td>\n",
       "    </tr>\n",
       "    <tr>\n",
       "      <th>11345688</th>\n",
       "      <td>750.034973</td>\n",
       "      <td>515.770020</td>\n",
       "      <td>39.160000</td>\n",
       "      <td>0.0</td>\n",
       "    </tr>\n",
       "    <tr>\n",
       "      <th>11345689</th>\n",
       "      <td>750.044983</td>\n",
       "      <td>504.980011</td>\n",
       "      <td>38.820000</td>\n",
       "      <td>0.0</td>\n",
       "    </tr>\n",
       "    <tr>\n",
       "      <th>11345690</th>\n",
       "      <td>750.034973</td>\n",
       "      <td>437.260010</td>\n",
       "      <td>38.169998</td>\n",
       "      <td>0.0</td>\n",
       "    </tr>\n",
       "  </tbody>\n",
       "</table>\n",
       "<p>11345691 rows × 4 columns</p>\n",
       "</div>"
      ],
      "text/plain": [
       "                   X           Y          Z  reflectance\n",
       "0         251.604996  250.470001  38.900002          0.0\n",
       "1         252.664993  250.229996  38.869999          0.0\n",
       "2         250.554993  250.770004  38.900002          0.0\n",
       "3         251.104996  250.639999  38.860001          0.0\n",
       "4         253.134995  250.759995  38.830002          0.0\n",
       "...              ...         ...        ...          ...\n",
       "11345686  750.044983  390.959991  38.009998          0.0\n",
       "11345687  750.034973  371.470001  57.320000          0.0\n",
       "11345688  750.034973  515.770020  39.160000          0.0\n",
       "11345689  750.044983  504.980011  38.820000          0.0\n",
       "11345690  750.034973  437.260010  38.169998          0.0\n",
       "\n",
       "[11345691 rows x 4 columns]"
      ]
     },
     "execution_count": 94,
     "metadata": {},
     "output_type": "execute_result"
    }
   ],
   "source": [
    "plydata = PlyData.read('DALES POINT NET Trainning/data/dales_ply/train/5080_54435.ply')\n",
    "point_data_ply = np.stack([plydata['vertex']['x'], plydata['vertex']['y'], plydata['vertex']['z'], plydata['vertex']['reflectance']], axis=0).transpose((1, 0))\n",
    "df1 = pd.DataFrame(data=point_data_ply, columns=['X','Y','Z','reflectance'])\n",
    "df1"
   ]
  },
  {
   "cell_type": "code",
   "execution_count": 97,
   "id": "458ce305-1cc7-4de0-acb8-b5a94ec73ee2",
   "metadata": {},
   "outputs": [
    {
     "data": {
      "text/plain": [
       "X              750.075012\n",
       "Y              750.059998\n",
       "Z               72.570000\n",
       "reflectance      0.000000\n",
       "dtype: float32"
      ]
     },
     "execution_count": 97,
     "metadata": {},
     "output_type": "execute_result"
    }
   ],
   "source": [
    "df1.max()"
   ]
  },
  {
   "cell_type": "code",
   "execution_count": 98,
   "id": "70cac7ba-1e5d-4bd1-934c-58b9a898a97e",
   "metadata": {},
   "outputs": [
    {
     "data": {
      "text/plain": [
       "X              250.024994\n",
       "Y              250.020004\n",
       "Z               24.190001\n",
       "reflectance      0.000000\n",
       "dtype: float32"
      ]
     },
     "execution_count": 98,
     "metadata": {},
     "output_type": "execute_result"
    }
   ],
   "source": [
    "df1.min()"
   ]
  },
  {
   "cell_type": "code",
   "execution_count": null,
   "id": "5b85b10d-4c56-40bb-a552-7a86c1c4a9ff",
   "metadata": {},
   "outputs": [],
   "source": []
  }
 ],
 "metadata": {
  "kernelspec": {
   "display_name": "Python 3 (ipykernel)",
   "language": "python",
   "name": "python3"
  },
  "language_info": {
   "codemirror_mode": {
    "name": "ipython",
    "version": 3
   },
   "file_extension": ".py",
   "mimetype": "text/x-python",
   "name": "python",
   "nbconvert_exporter": "python",
   "pygments_lexer": "ipython3",
   "version": "3.10.6"
  }
 },
 "nbformat": 4,
 "nbformat_minor": 5
}
