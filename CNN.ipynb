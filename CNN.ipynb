{
 "cells": [
  {
   "cell_type": "code",
   "execution_count": 1,
   "id": "391f8022-682f-47b2-a4bd-f781a8744e23",
   "metadata": {},
   "outputs": [],
   "source": [
    "import tensorflow as tf\n",
    "from keras.preprocessing.image import ImageDataGenerator"
   ]
  },
  {
   "cell_type": "code",
   "execution_count": 2,
   "id": "05852254-3e4e-4efe-9fdb-4a162201f379",
   "metadata": {},
   "outputs": [
    {
     "data": {
      "text/plain": [
       "'2.10.0'"
      ]
     },
     "execution_count": 2,
     "metadata": {},
     "output_type": "execute_result"
    }
   ],
   "source": [
    "tf.__version__"
   ]
  },
  {
   "cell_type": "code",
   "execution_count": 3,
   "id": "1e6fe86d-65d1-4cae-b6ed-f8238140ca4a",
   "metadata": {},
   "outputs": [
    {
     "name": "stdout",
     "output_type": "stream",
     "text": [
      "[PhysicalDevice(name='/physical_device:GPU:0', device_type='GPU')]\n",
      "Num GPUs Available:  1\n"
     ]
    }
   ],
   "source": [
    "print(tf.config.list_physical_devices('GPU'))\n",
    "print(\"Num GPUs Available: \", len(tf.config.list_physical_devices('GPU')))"
   ]
  },
  {
   "cell_type": "markdown",
   "id": "831f76b3-088b-4cc6-8731-8a70c73b7e55",
   "metadata": {},
   "source": [
    "<h1> Data Preprocessing"
   ]
  },
  {
   "cell_type": "markdown",
   "id": "3db4ef2f-faa0-4c38-a1e0-4ecfd036b23c",
   "metadata": {},
   "source": [
    "<h3> Training set"
   ]
  },
  {
   "cell_type": "code",
   "execution_count": 4,
   "id": "f988cbbf-ba36-4927-977c-7240803b2f00",
   "metadata": {},
   "outputs": [
    {
     "name": "stdout",
     "output_type": "stream",
     "text": [
      "Found 3640 images belonging to 2 classes.\n"
     ]
    }
   ],
   "source": [
    "#### Transformation to avoid overfitting \n",
    "## Image augmentation use Keras\n",
    "## maybe some geometric transformation like shit zoom etc\n",
    "\n",
    "#### We can find the full list of preprocessing form keras from here https://keras.io/api/preprocessing/image/\n",
    "### Please take screen shot of the methods we decided to use and put in our report of \n",
    "\n",
    "train_datagen = ImageDataGenerator(\n",
    "    rescale=1./255,\n",
    "    shear_range=0.2,\n",
    "    zoom_range=0.2,\n",
    "    horizontal_flip=True)\n",
    "\n",
    "\n",
    "train_set = train_datagen.flow_from_directory(\n",
    "    'data_cnn/train',\n",
    "    target_size=(256,256),    ### might need to reduce the size to 64 or something to reduce training time and compare metrics\n",
    "    batch_size=32,\n",
    "    class_mode='binary'\n",
    ")"
   ]
  },
  {
   "cell_type": "markdown",
   "id": "8410bcd7-aacf-452a-a8cf-dc4060a415b9",
   "metadata": {},
   "source": [
    "<h3> Test set"
   ]
  },
  {
   "cell_type": "code",
   "execution_count": 5,
   "id": "7fe5b706-ffa6-42e3-b24b-90edb79544a7",
   "metadata": {},
   "outputs": [
    {
     "name": "stdout",
     "output_type": "stream",
     "text": [
      "Found 911 images belonging to 2 classes.\n"
     ]
    }
   ],
   "source": [
    "test_datagen = ImageDataGenerator(\n",
    "    rescale=1./255,\n",
    "    shear_range=0.2,\n",
    "    zoom_range=0.2,\n",
    "    horizontal_flip=True)\n",
    "\n",
    "test_set = test_datagen.flow_from_directory(\n",
    "    'data_cnn/val',\n",
    "    target_size=(256,256),\n",
    "    batch_size=32,\n",
    "    class_mode='binary'\n",
    ")"
   ]
  },
  {
   "cell_type": "markdown",
   "id": "f7e321ce-0d42-4b8a-a72d-dd6b60e675ff",
   "metadata": {},
   "source": [
    "<h1> Build CNN"
   ]
  },
  {
   "cell_type": "code",
   "execution_count": 6,
   "id": "cf460182-4975-4f55-b894-642cdafd0a34",
   "metadata": {},
   "outputs": [
    {
     "name": "stdout",
     "output_type": "stream",
     "text": [
      "Metal device set to: Apple M1 Pro\n"
     ]
    },
    {
     "name": "stderr",
     "output_type": "stream",
     "text": [
      "2022-11-15 19:18:49.636993: I tensorflow/core/common_runtime/pluggable_device/pluggable_device_factory.cc:306] Could not identify NUMA node of platform GPU ID 0, defaulting to 0. Your kernel may not have been built with NUMA support.\n",
      "2022-11-15 19:18:49.637136: I tensorflow/core/common_runtime/pluggable_device/pluggable_device_factory.cc:272] Created TensorFlow device (/job:localhost/replica:0/task:0/device:GPU:0 with 0 MB memory) -> physical PluggableDevice (device: 0, name: METAL, pci bus id: <undefined>)\n"
     ]
    }
   ],
   "source": [
    "### Initialize CNN\n",
    "\n",
    "### ARHHHH I hate apple. Apple silicon is UMA, not NUMA which is a unified memory architecture. \n",
    "### tensorflow-metal is broken. Might need a new env for cudatoolkit=9.0 && tensorflow-gpu=1.11.0\n",
    "### will test this out later\n",
    "cnn = tf.keras.models.Sequential()"
   ]
  },
  {
   "cell_type": "code",
   "execution_count": 7,
   "id": "47168a0d-1a60-4d35-9e09-6f839af61cc7",
   "metadata": {},
   "outputs": [],
   "source": [
    "#### Convolution\n",
    "\n",
    "\n",
    "### Need more hyper parameter tuing and maybe Batch normalization is a good idea as well\n",
    "### I started by picking a Classic architecture which has a 32 filters in first convolutional layers \n",
    "### follow by another 32 filters on second \n",
    "\n",
    "### Later decided on 32 32 and 64 performs slighty better\n",
    "\n",
    "\n",
    "cnn.add(tf.keras.layers.Conv2D(filters=32, kernel_size=3, activation='relu', input_shape=[256,256,3]))"
   ]
  },
  {
   "cell_type": "code",
   "execution_count": 8,
   "id": "43de1b40-626f-4c63-a6e6-e4d9756c09d3",
   "metadata": {},
   "outputs": [],
   "source": [
    "##### Pooling \n",
    "### We are using Max pooling but can also experiment with mean pooling or sum pooling MORE hyper parameters tuning needed\n",
    "\n",
    "\n",
    "cnn.add(tf.keras.layers.MaxPool2D(pool_size=2,strides=2))"
   ]
  },
  {
   "cell_type": "code",
   "execution_count": 9,
   "id": "3068c006-1129-4ae5-b991-400c833a00b4",
   "metadata": {},
   "outputs": [],
   "source": [
    "#### Second layer of Convolution\n",
    "cnn.add(tf.keras.layers.Conv2D(filters=32, kernel_size=3, activation='relu'))\n",
    "cnn.add(tf.keras.layers.MaxPool2D(pool_size=2,strides=2))\n"
   ]
  },
  {
   "cell_type": "code",
   "execution_count": 10,
   "id": "7a269020-5658-4dd5-a880-ff3ab6fc8c87",
   "metadata": {},
   "outputs": [],
   "source": [
    "#### third layer of Convolution\n",
    "cnn.add(tf.keras.layers.Conv2D(filters=64, kernel_size=3, activation='relu'))\n",
    "cnn.add(tf.keras.layers.MaxPool2D(pool_size=2,strides=2))\n"
   ]
  },
  {
   "cell_type": "code",
   "execution_count": 11,
   "id": "421baf76-5c7a-407d-96eb-9d2af6425ccc",
   "metadata": {},
   "outputs": [],
   "source": [
    "#### Flattening\n",
    "\n",
    "cnn.add(tf.keras.layers.Flatten())"
   ]
  },
  {
   "cell_type": "code",
   "execution_count": 12,
   "id": "353a1069-2c18-49e6-8f8a-e09b6a02b674",
   "metadata": {},
   "outputs": [],
   "source": [
    "#### Fully connected layer\n",
    "\n",
    "### using 128 hidden neurons need more tuning\n",
    "cnn.add(tf.keras.layers.Dense(units=128, activation='relu'))"
   ]
  },
  {
   "cell_type": "code",
   "execution_count": 13,
   "id": "3c9f7b90-8ffe-4b6e-9b4d-aad3dd1e6a63",
   "metadata": {},
   "outputs": [],
   "source": [
    "### Output layer\n",
    "\n",
    "## binary classification uses sigmoid multiclass will use softmax\n",
    "cnn.add(tf.keras.layers.Dense(units=1, activation='sigmoid'))"
   ]
  },
  {
   "cell_type": "markdown",
   "id": "3a4be5b7-1d66-4b38-86db-f915c120fa23",
   "metadata": {},
   "source": [
    "<h1> Train CNN"
   ]
  },
  {
   "cell_type": "code",
   "execution_count": 14,
   "id": "bd7850d4-1773-4804-996e-498c984972cc",
   "metadata": {},
   "outputs": [
    {
     "name": "stdout",
     "output_type": "stream",
     "text": [
      "Model: \"sequential\"\n",
      "_________________________________________________________________\n",
      " Layer (type)                Output Shape              Param #   \n",
      "=================================================================\n",
      " conv2d (Conv2D)             (None, 254, 254, 32)      896       \n",
      "                                                                 \n",
      " max_pooling2d (MaxPooling2D  (None, 127, 127, 32)     0         \n",
      " )                                                               \n",
      "                                                                 \n",
      " conv2d_1 (Conv2D)           (None, 125, 125, 32)      9248      \n",
      "                                                                 \n",
      " max_pooling2d_1 (MaxPooling  (None, 62, 62, 32)       0         \n",
      " 2D)                                                             \n",
      "                                                                 \n",
      " conv2d_2 (Conv2D)           (None, 60, 60, 64)        18496     \n",
      "                                                                 \n",
      " max_pooling2d_2 (MaxPooling  (None, 30, 30, 64)       0         \n",
      " 2D)                                                             \n",
      "                                                                 \n",
      " flatten (Flatten)           (None, 57600)             0         \n",
      "                                                                 \n",
      " dense (Dense)               (None, 128)               7372928   \n",
      "                                                                 \n",
      " dense_1 (Dense)             (None, 1)                 129       \n",
      "                                                                 \n",
      "=================================================================\n",
      "Total params: 7,401,697\n",
      "Trainable params: 7,401,697\n",
      "Non-trainable params: 0\n",
      "_________________________________________________________________\n"
     ]
    }
   ],
   "source": [
    "### Compile CNN\n",
    "\n",
    "## I choose to stick with adam because it performs well on stochastic gradient descent. MSE is not good for adjusting that\n",
    "cnn.compile(loss= 'binary_crossentropy', optimizer='adam', metrics=['accuracy'])\n",
    "\n",
    "cnn.summary()"
   ]
  },
  {
   "cell_type": "code",
   "execution_count": 15,
   "id": "36ff37b5-4db9-4c4f-b632-e1d47187c031",
   "metadata": {},
   "outputs": [
    {
     "name": "stdout",
     "output_type": "stream",
     "text": [
      "Epoch 1/15\n"
     ]
    },
    {
     "name": "stderr",
     "output_type": "stream",
     "text": [
      "2022-11-15 19:18:50.075451: W tensorflow/core/platform/profile_utils/cpu_utils.cc:128] Failed to get CPU frequency: 0 Hz\n",
      "2022-11-15 19:18:50.396426: I tensorflow/core/grappler/optimizers/custom_graph_optimizer_registry.cc:114] Plugin optimizer for device_type GPU is enabled.\n"
     ]
    },
    {
     "name": "stdout",
     "output_type": "stream",
     "text": [
      "114/114 [==============================] - ETA: 0s - loss: 0.3898 - accuracy: 0.8266"
     ]
    },
    {
     "name": "stderr",
     "output_type": "stream",
     "text": [
      "2022-11-15 19:19:15.625460: I tensorflow/core/grappler/optimizers/custom_graph_optimizer_registry.cc:114] Plugin optimizer for device_type GPU is enabled.\n"
     ]
    },
    {
     "name": "stdout",
     "output_type": "stream",
     "text": [
      "114/114 [==============================] - 32s 275ms/step - loss: 0.3898 - accuracy: 0.8266 - val_loss: 0.2125 - val_accuracy: 0.9166\n",
      "Epoch 2/15\n",
      "114/114 [==============================] - 31s 269ms/step - loss: 0.1707 - accuracy: 0.9434 - val_loss: 0.1363 - val_accuracy: 0.9407\n",
      "Epoch 3/15\n",
      "114/114 [==============================] - 31s 267ms/step - loss: 0.1336 - accuracy: 0.9560 - val_loss: 0.1555 - val_accuracy: 0.9473\n",
      "Epoch 4/15\n",
      "114/114 [==============================] - 30s 267ms/step - loss: 0.0941 - accuracy: 0.9714 - val_loss: 0.1179 - val_accuracy: 0.9726\n",
      "Epoch 5/15\n",
      "114/114 [==============================] - 31s 271ms/step - loss: 0.0813 - accuracy: 0.9764 - val_loss: 0.0769 - val_accuracy: 0.9780\n",
      "Epoch 6/15\n",
      "114/114 [==============================] - 31s 270ms/step - loss: 0.0850 - accuracy: 0.9701 - val_loss: 0.0757 - val_accuracy: 0.9813\n",
      "Epoch 7/15\n",
      "114/114 [==============================] - 31s 272ms/step - loss: 0.0839 - accuracy: 0.9747 - val_loss: 0.1109 - val_accuracy: 0.9649\n",
      "Epoch 8/15\n",
      "114/114 [==============================] - 31s 270ms/step - loss: 0.0638 - accuracy: 0.9799 - val_loss: 0.0503 - val_accuracy: 0.9879\n",
      "Epoch 9/15\n",
      "114/114 [==============================] - 31s 267ms/step - loss: 0.0463 - accuracy: 0.9843 - val_loss: 0.0566 - val_accuracy: 0.9857\n",
      "Epoch 10/15\n",
      "114/114 [==============================] - 31s 271ms/step - loss: 0.0716 - accuracy: 0.9745 - val_loss: 0.0754 - val_accuracy: 0.9759\n",
      "Epoch 11/15\n",
      "114/114 [==============================] - 31s 270ms/step - loss: 0.0814 - accuracy: 0.9755 - val_loss: 0.0630 - val_accuracy: 0.9890\n",
      "Epoch 12/15\n",
      "114/114 [==============================] - 31s 272ms/step - loss: 0.0587 - accuracy: 0.9832 - val_loss: 0.0811 - val_accuracy: 0.9715\n",
      "Epoch 13/15\n",
      "114/114 [==============================] - 31s 270ms/step - loss: 0.0413 - accuracy: 0.9868 - val_loss: 0.0471 - val_accuracy: 0.9846\n",
      "Epoch 14/15\n",
      "114/114 [==============================] - 31s 271ms/step - loss: 0.0303 - accuracy: 0.9898 - val_loss: 0.0316 - val_accuracy: 0.9956\n",
      "Epoch 15/15\n",
      "114/114 [==============================] - 31s 271ms/step - loss: 0.0223 - accuracy: 0.9926 - val_loss: 0.0702 - val_accuracy: 0.9868\n",
      "CPU times: user 7min 41s, sys: 36.1 s, total: 8min 18s\n",
      "Wall time: 7min 43s\n"
     ]
    }
   ],
   "source": [
    "%%time\n",
    "########## Train and evaluate ##########\n",
    "\n",
    "\n",
    "model = cnn.fit(x=train_set, validation_data=test_set, epochs=15)"
   ]
  },
  {
   "cell_type": "markdown",
   "id": "68ff4d25-00fb-45a8-99ce-e3e06b16afbe",
   "metadata": {},
   "source": [
    "<h1>Accuracy, Loss & ROC "
   ]
  },
  {
   "cell_type": "code",
   "execution_count": 35,
   "id": "f964b05c-e610-461b-a7f4-9bdb1cc7a806",
   "metadata": {},
   "outputs": [
    {
     "data": {
      "image/png": "[encoded data removed]",
      "text/plain": [
       "<Figure size 640x480 with 1 Axes>"
      ]
     },
     "metadata": {},
     "output_type": "display_data"
    },
    {
     "data": {
      "image/png": "[encoded data removed]",
      "text/plain": [
       "<Figure size 640x480 with 1 Axes>"
      ]
     },
     "metadata": {},
     "output_type": "display_data"
    }
   ],
   "source": [
    "import matplotlib.pyplot as plt\n",
    "\n",
    "loss = model.history['loss']\n",
    "val_loss = model.history['val_loss']\n",
    "epochs = range(1, len(loss) + 1)\n",
    "plt.plot(epochs, loss, 'y', label='Training loss')\n",
    "plt.plot(epochs, val_loss, 'r', label='Validation loss')\n",
    "plt.title('Training and validation loss')\n",
    "plt.xlabel('Epochs')\n",
    "plt.ylabel('Loss')\n",
    "plt.legend()\n",
    "plt.show()\n",
    "\n",
    "\n",
    "acc = model.history['accuracy']\n",
    "val_acc = model.history['val_accuracy']\n",
    "plt.plot(epochs, acc, 'y', label='Training acc')\n",
    "plt.plot(epochs, val_acc, 'r', label='Validation acc')\n",
    "plt.title('Training and validation accuracy')\n",
    "plt.xlabel('Epochs')\n",
    "plt.ylabel('Accuracy')\n",
    "plt.legend()\n",
    "plt.show()"
   ]
  },
  {
   "cell_type": "code",
   "execution_count": 18,
   "id": "53cd182b-dc41-4c3d-ba86-0fe93f21d6cf",
   "metadata": {},
   "outputs": [
    {
     "name": "stdout",
     "output_type": "stream",
     "text": [
      "29/29 [==============================] - 6s 203ms/step - loss: 0.0832 - accuracy: 0.9802\n",
      "Accuracy =  98.02414774894714 %\n"
     ]
    }
   ],
   "source": [
    "_, acc = cnn.evaluate(test_set)\n",
    "print(\"Accuracy = \", (acc * 100.0), \"%\")"
   ]
  },
  {
   "cell_type": "code",
   "execution_count": null,
   "id": "d0bf3976-1d7b-40db-ad25-b2fae63c6577",
   "metadata": {},
   "outputs": [],
   "source": []
  },
  {
   "cell_type": "code",
   "execution_count": null,
   "id": "5214191e-caac-4c02-a940-c65507b77b93",
   "metadata": {},
   "outputs": [],
   "source": []
  },
  {
   "cell_type": "code",
   "execution_count": 20,
   "id": "0f96c14e-b9d8-4333-af52-d1ec3c3c1ca1",
   "metadata": {},
   "outputs": [
    {
     "name": "stderr",
     "output_type": "stream",
     "text": [
      "WARNING:absl:Found untraced functions such as _jit_compiled_convolution_op, _jit_compiled_convolution_op, _jit_compiled_convolution_op while saving (showing 3 of 3). These functions will not be directly callable after loading.\n"
     ]
    },
    {
     "name": "stdout",
     "output_type": "stream",
     "text": [
      "INFO:tensorflow:Assets written to: CNN_TURBINE/assets\n"
     ]
    },
    {
     "name": "stderr",
     "output_type": "stream",
     "text": [
      "INFO:tensorflow:Assets written to: CNN_TURBINE/assets\n"
     ]
    }
   ],
   "source": [
    "cnn.save('CNN_TURBINE')"
   ]
  },
  {
   "cell_type": "code",
   "execution_count": 21,
   "id": "5f297d3f-c84b-4562-ad46-af8ce2ebe0cb",
   "metadata": {},
   "outputs": [],
   "source": [
    "cnn.save('CNN_TURBINE_H5', save_format=\"h5\")"
   ]
  },
  {
   "cell_type": "code",
   "execution_count": null,
   "id": "249f94c8-ecdb-42f5-892e-d04ee22c7a7d",
   "metadata": {},
   "outputs": [],
   "source": []
  },
  {
   "cell_type": "markdown",
   "id": "f6c57c91-d2e9-4b82-8cd3-ad00268e46f6",
   "metadata": {},
   "source": [
    "<h1> Make predictions"
   ]
  },
  {
   "cell_type": "code",
   "execution_count": 152,
   "id": "29c9deea-d771-415d-a870-973d7aaca9be",
   "metadata": {},
   "outputs": [
    {
     "name": "stdout",
     "output_type": "stream",
     "text": [
      "1/1 [==============================] - 0s 13ms/step\n"
     ]
    }
   ],
   "source": [
    "import numpy as np\n",
    "from keras.preprocessing import image\n",
    "import keras\n",
    "\n",
    "test_image = keras.utils.load_img(\"mapbox_right.jpeg\")\n",
    "test_image = test_image.resize((256, 256))\n",
    "test_image = keras.utils.img_to_array(test_image)\n",
    "test_image = np.expand_dims(test_image, axis = 0)\n",
    "\n",
    "result = cnn.predict(test_image/255.0)\n",
    "\n",
    "test_set.class_indices\n",
    "if result[0][0] > 0.5:\n",
    "    prediction = 'wind_turbine'\n",
    "else:\n",
    "    prediction = 'not_wind_turbinne'"
   ]
  },
  {
   "cell_type": "code",
   "execution_count": null,
   "id": "723f6acb-f2ea-4d19-83a1-8f8232fcfea8",
   "metadata": {},
   "outputs": [],
   "source": []
  },
  {
   "cell_type": "code",
   "execution_count": 153,
   "id": "ae21bd8e-8045-4d08-9fec-75b969c8850d",
   "metadata": {},
   "outputs": [
    {
     "data": {
      "text/plain": [
       "'wind_turbine'"
      ]
     },
     "execution_count": 153,
     "metadata": {},
     "output_type": "execute_result"
    }
   ],
   "source": [
    "prediction"
   ]
  },
  {
   "cell_type": "code",
   "execution_count": 154,
   "id": "6562607b-ec69-4492-941c-0831920b1362",
   "metadata": {},
   "outputs": [
    {
     "data": {
      "text/plain": [
       "array([[0.990862]], dtype=float32)"
      ]
     },
     "execution_count": 154,
     "metadata": {},
     "output_type": "execute_result"
    }
   ],
   "source": [
    "result"
   ]
  }
 ],
 "metadata": {
  "kernelspec": {
   "display_name": "Python 3 (ipykernel)",
   "language": "python",
   "name": "python3"
  },
  "language_info": {
   "codemirror_mode": {
    "name": "ipython",
    "version": 3
   },
   "file_extension": ".py",
   "mimetype": "text/x-python",
   "name": "python",
   "nbconvert_exporter": "python",
   "pygments_lexer": "ipython3",
   "version": "3.10.6"
  }
 },
 "nbformat": 4,
 "nbformat_minor": 5
}
