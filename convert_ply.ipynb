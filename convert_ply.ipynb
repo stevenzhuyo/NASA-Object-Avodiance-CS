{
 "cells": [
  {
   "cell_type": "code",
   "execution_count": 1,
   "id": "91b88e1e-4adb-4bc9-9c0a-10e1694cca11",
   "metadata": {},
   "outputs": [],
   "source": [
    "import trimesh\n",
    "from plyfile import PlyData, PlyElement, PlyProperty\n",
    "import numpy as np\n",
    "import laspy as lp"
   ]
  },
  {
   "cell_type": "code",
   "execution_count": 2,
   "id": "42492a18-1763-41e0-aeb3-0a234ab19c40",
   "metadata": {},
   "outputs": [],
   "source": [
    "point_cloud=lp.read(\"davis_big.las\")"
   ]
  },
  {
   "cell_type": "code",
   "execution_count": 3,
   "id": "4f8ad8c8-151f-43c8-891f-92ab21009dfe",
   "metadata": {},
   "outputs": [
    {
     "data": {
      "text/plain": [
       "<LasData(1.2, point fmt: <PointFormat(3, 0 bytes of extra dims)>, 169577267 points, 2 vlrs)>"
      ]
     },
     "execution_count": 3,
     "metadata": {},
     "output_type": "execute_result"
    }
   ],
   "source": [
    "point_cloud"
   ]
  },
  {
   "cell_type": "code",
   "execution_count": 4,
   "id": "3648d412-dbf5-4297-b50b-9e66774147e0",
   "metadata": {},
   "outputs": [
    {
     "data": {
      "text/plain": [
       "['X',\n",
       " 'Y',\n",
       " 'Z',\n",
       " 'intensity',\n",
       " 'return_number',\n",
       " 'number_of_returns',\n",
       " 'scan_direction_flag',\n",
       " 'edge_of_flight_line',\n",
       " 'classification',\n",
       " 'synthetic',\n",
       " 'key_point',\n",
       " 'withheld',\n",
       " 'scan_angle_rank',\n",
       " 'user_data',\n",
       " 'point_source_id',\n",
       " 'gps_time',\n",
       " 'red',\n",
       " 'green',\n",
       " 'blue']"
      ]
     },
     "execution_count": 4,
     "metadata": {},
     "output_type": "execute_result"
    }
   ],
   "source": [
    "list(point_cloud.point_format.dimension_names)"
   ]
  },
  {
   "cell_type": "code",
   "execution_count": 5,
   "id": "2cdf330b-02bb-421c-aeea-08b034f39969",
   "metadata": {},
   "outputs": [
    {
     "data": {
      "text/plain": [
       "array([[ 61011822, 427032655,      1041,     50068,         2],\n",
       "       [ 61011441, 427032652,      1041,     48626,         2],\n",
       "       [ 61010827, 427032396,      1041,     47163,         2],\n",
       "       ...,\n",
       "       [ 60398563, 426691795,      2046,     50571,         2],\n",
       "       [ 60398244, 426691759,      2046,     48299,         2],\n",
       "       [ 60398311, 426691797,      2046,     49304,         2]],\n",
       "      dtype=int32)"
      ]
     },
     "execution_count": 5,
     "metadata": {},
     "output_type": "execute_result"
    }
   ],
   "source": [
    "import pandas as pd\n",
    "point_data = np.stack([point_cloud.X, point_cloud.Y, point_cloud.Z, point_cloud.intensity,point_cloud.classification], axis=0).transpose((1, 0))\n",
    "point_data"
   ]
  },
  {
   "cell_type": "code",
   "execution_count": 6,
   "id": "1bfe6242-1a84-4bb3-b860-10d3b385387f",
   "metadata": {},
   "outputs": [
    {
     "data": {
      "text/html": [
       "<div>\n",
       "<style scoped>\n",
       "    .dataframe tbody tr th:only-of-type {\n",
       "        vertical-align: middle;\n",
       "    }\n",
       "\n",
       "    .dataframe tbody tr th {\n",
       "        vertical-align: top;\n",
       "    }\n",
       "\n",
       "    .dataframe thead th {\n",
       "        text-align: right;\n",
       "    }\n",
       "</style>\n",
       "<table border=\"1\" class=\"dataframe\">\n",
       "  <thead>\n",
       "    <tr style=\"text-align: right;\">\n",
       "      <th></th>\n",
       "      <th>X</th>\n",
       "      <th>Y</th>\n",
       "      <th>Z</th>\n",
       "      <th>reflectance</th>\n",
       "      <th>Class</th>\n",
       "    </tr>\n",
       "  </thead>\n",
       "  <tbody>\n",
       "    <tr>\n",
       "      <th>0</th>\n",
       "      <td>61011822</td>\n",
       "      <td>427032655</td>\n",
       "      <td>1041</td>\n",
       "      <td>50068</td>\n",
       "      <td>2</td>\n",
       "    </tr>\n",
       "    <tr>\n",
       "      <th>1</th>\n",
       "      <td>61011441</td>\n",
       "      <td>427032652</td>\n",
       "      <td>1041</td>\n",
       "      <td>48626</td>\n",
       "      <td>2</td>\n",
       "    </tr>\n",
       "    <tr>\n",
       "      <th>2</th>\n",
       "      <td>61010827</td>\n",
       "      <td>427032396</td>\n",
       "      <td>1041</td>\n",
       "      <td>47163</td>\n",
       "      <td>2</td>\n",
       "    </tr>\n",
       "    <tr>\n",
       "      <th>3</th>\n",
       "      <td>61011271</td>\n",
       "      <td>427032644</td>\n",
       "      <td>1047</td>\n",
       "      <td>49806</td>\n",
       "      <td>2</td>\n",
       "    </tr>\n",
       "    <tr>\n",
       "      <th>4</th>\n",
       "      <td>61011634</td>\n",
       "      <td>427032847</td>\n",
       "      <td>1040</td>\n",
       "      <td>50898</td>\n",
       "      <td>2</td>\n",
       "    </tr>\n",
       "    <tr>\n",
       "      <th>...</th>\n",
       "      <td>...</td>\n",
       "      <td>...</td>\n",
       "      <td>...</td>\n",
       "      <td>...</td>\n",
       "      <td>...</td>\n",
       "    </tr>\n",
       "    <tr>\n",
       "      <th>169577262</th>\n",
       "      <td>60398425</td>\n",
       "      <td>426691717</td>\n",
       "      <td>2045</td>\n",
       "      <td>48910</td>\n",
       "      <td>2</td>\n",
       "    </tr>\n",
       "    <tr>\n",
       "      <th>169577263</th>\n",
       "      <td>60398495</td>\n",
       "      <td>426691757</td>\n",
       "      <td>2047</td>\n",
       "      <td>50177</td>\n",
       "      <td>2</td>\n",
       "    </tr>\n",
       "    <tr>\n",
       "      <th>169577264</th>\n",
       "      <td>60398563</td>\n",
       "      <td>426691795</td>\n",
       "      <td>2046</td>\n",
       "      <td>50571</td>\n",
       "      <td>2</td>\n",
       "    </tr>\n",
       "    <tr>\n",
       "      <th>169577265</th>\n",
       "      <td>60398244</td>\n",
       "      <td>426691759</td>\n",
       "      <td>2046</td>\n",
       "      <td>48299</td>\n",
       "      <td>2</td>\n",
       "    </tr>\n",
       "    <tr>\n",
       "      <th>169577266</th>\n",
       "      <td>60398311</td>\n",
       "      <td>426691797</td>\n",
       "      <td>2046</td>\n",
       "      <td>49304</td>\n",
       "      <td>2</td>\n",
       "    </tr>\n",
       "  </tbody>\n",
       "</table>\n",
       "<p>169577267 rows × 5 columns</p>\n",
       "</div>"
      ],
      "text/plain": [
       "                  X          Y     Z  reflectance  Class\n",
       "0          61011822  427032655  1041        50068      2\n",
       "1          61011441  427032652  1041        48626      2\n",
       "2          61010827  427032396  1041        47163      2\n",
       "3          61011271  427032644  1047        49806      2\n",
       "4          61011634  427032847  1040        50898      2\n",
       "...             ...        ...   ...          ...    ...\n",
       "169577262  60398425  426691717  2045        48910      2\n",
       "169577263  60398495  426691757  2047        50177      2\n",
       "169577264  60398563  426691795  2046        50571      2\n",
       "169577265  60398244  426691759  2046        48299      2\n",
       "169577266  60398311  426691797  2046        49304      2\n",
       "\n",
       "[169577267 rows x 5 columns]"
      ]
     },
     "execution_count": 6,
     "metadata": {},
     "output_type": "execute_result"
    }
   ],
   "source": [
    "df = pd.DataFrame(data=point_data, columns=['X','Y','Z','reflectance','Class'])\n",
    "df"
   ]
  },
  {
   "cell_type": "code",
   "execution_count": 7,
   "id": "fad08125-c009-4a1f-b089-06dd778b5110",
   "metadata": {},
   "outputs": [
    {
     "data": {
      "text/html": [
       "<div>\n",
       "<style scoped>\n",
       "    .dataframe tbody tr th:only-of-type {\n",
       "        vertical-align: middle;\n",
       "    }\n",
       "\n",
       "    .dataframe tbody tr th {\n",
       "        vertical-align: top;\n",
       "    }\n",
       "\n",
       "    .dataframe thead th {\n",
       "        text-align: right;\n",
       "    }\n",
       "</style>\n",
       "<table border=\"1\" class=\"dataframe\">\n",
       "  <thead>\n",
       "    <tr style=\"text-align: right;\">\n",
       "      <th></th>\n",
       "      <th>X</th>\n",
       "      <th>Y</th>\n",
       "      <th>Z</th>\n",
       "      <th>reflectance</th>\n",
       "      <th>Class</th>\n",
       "    </tr>\n",
       "  </thead>\n",
       "  <tbody>\n",
       "    <tr>\n",
       "      <th>count</th>\n",
       "      <td>1.695773e+08</td>\n",
       "      <td>1.695773e+08</td>\n",
       "      <td>1.695773e+08</td>\n",
       "      <td>1.695773e+08</td>\n",
       "      <td>1.695773e+08</td>\n",
       "    </tr>\n",
       "    <tr>\n",
       "      <th>mean</th>\n",
       "      <td>6.068609e+07</td>\n",
       "      <td>4.267067e+08</td>\n",
       "      <td>1.840397e+03</td>\n",
       "      <td>4.945400e+04</td>\n",
       "      <td>1.748637e+00</td>\n",
       "    </tr>\n",
       "    <tr>\n",
       "      <th>std</th>\n",
       "      <td>1.926541e+05</td>\n",
       "      <td>1.916313e+05</td>\n",
       "      <td>8.269772e+02</td>\n",
       "      <td>7.536899e+03</td>\n",
       "      <td>7.712580e-01</td>\n",
       "    </tr>\n",
       "    <tr>\n",
       "      <th>min</th>\n",
       "      <td>6.033885e+07</td>\n",
       "      <td>4.263662e+08</td>\n",
       "      <td>-1.365600e+04</td>\n",
       "      <td>0.000000e+00</td>\n",
       "      <td>1.000000e+00</td>\n",
       "    </tr>\n",
       "    <tr>\n",
       "      <th>25%</th>\n",
       "      <td>6.051938e+07</td>\n",
       "      <td>4.265418e+08</td>\n",
       "      <td>1.538000e+03</td>\n",
       "      <td>4.622400e+04</td>\n",
       "      <td>1.000000e+00</td>\n",
       "    </tr>\n",
       "    <tr>\n",
       "      <th>50%</th>\n",
       "      <td>6.069257e+07</td>\n",
       "      <td>4.267121e+08</td>\n",
       "      <td>1.813000e+03</td>\n",
       "      <td>5.216500e+04</td>\n",
       "      <td>2.000000e+00</td>\n",
       "    </tr>\n",
       "    <tr>\n",
       "      <th>75%</th>\n",
       "      <td>6.085290e+07</td>\n",
       "      <td>4.268679e+08</td>\n",
       "      <td>2.037000e+03</td>\n",
       "      <td>5.450300e+04</td>\n",
       "      <td>2.000000e+00</td>\n",
       "    </tr>\n",
       "    <tr>\n",
       "      <th>max</th>\n",
       "      <td>6.102151e+07</td>\n",
       "      <td>4.270475e+08</td>\n",
       "      <td>2.080060e+05</td>\n",
       "      <td>6.553500e+04</td>\n",
       "      <td>2.000000e+01</td>\n",
       "    </tr>\n",
       "  </tbody>\n",
       "</table>\n",
       "</div>"
      ],
      "text/plain": [
       "                  X             Y             Z   reflectance         Class\n",
       "count  1.695773e+08  1.695773e+08  1.695773e+08  1.695773e+08  1.695773e+08\n",
       "mean   6.068609e+07  4.267067e+08  1.840397e+03  4.945400e+04  1.748637e+00\n",
       "std    1.926541e+05  1.916313e+05  8.269772e+02  7.536899e+03  7.712580e-01\n",
       "min    6.033885e+07  4.263662e+08 -1.365600e+04  0.000000e+00  1.000000e+00\n",
       "25%    6.051938e+07  4.265418e+08  1.538000e+03  4.622400e+04  1.000000e+00\n",
       "50%    6.069257e+07  4.267121e+08  1.813000e+03  5.216500e+04  2.000000e+00\n",
       "75%    6.085290e+07  4.268679e+08  2.037000e+03  5.450300e+04  2.000000e+00\n",
       "max    6.102151e+07  4.270475e+08  2.080060e+05  6.553500e+04  2.000000e+01"
      ]
     },
     "execution_count": 7,
     "metadata": {},
     "output_type": "execute_result"
    }
   ],
   "source": [
    "df.describe()"
   ]
  },
  {
   "cell_type": "code",
   "execution_count": 8,
   "id": "7dd1b7da-a759-4b76-b8a0-0002cdd921cc",
   "metadata": {},
   "outputs": [],
   "source": [
    "# df = df[df.Z < df.Z.quantile(.999)]\n",
    "# df = df[df.Z > df.Z.quantile(.001)]\n",
    "# df"
   ]
  },
  {
   "cell_type": "code",
   "execution_count": 9,
   "id": "8e38a98a-edd0-4b5f-882b-5691a27cdff4",
   "metadata": {},
   "outputs": [
    {
     "data": {
      "text/html": [
       "<div>\n",
       "<style scoped>\n",
       "    .dataframe tbody tr th:only-of-type {\n",
       "        vertical-align: middle;\n",
       "    }\n",
       "\n",
       "    .dataframe tbody tr th {\n",
       "        vertical-align: top;\n",
       "    }\n",
       "\n",
       "    .dataframe thead th {\n",
       "        text-align: right;\n",
       "    }\n",
       "</style>\n",
       "<table border=\"1\" class=\"dataframe\">\n",
       "  <thead>\n",
       "    <tr style=\"text-align: right;\">\n",
       "      <th></th>\n",
       "      <th>X</th>\n",
       "      <th>Y</th>\n",
       "      <th>Z</th>\n",
       "      <th>reflectance</th>\n",
       "      <th>Class</th>\n",
       "    </tr>\n",
       "  </thead>\n",
       "  <tbody>\n",
       "    <tr>\n",
       "      <th>count</th>\n",
       "      <td>1.695773e+08</td>\n",
       "      <td>1.695773e+08</td>\n",
       "      <td>1.695773e+08</td>\n",
       "      <td>1.695773e+08</td>\n",
       "      <td>1.695773e+08</td>\n",
       "    </tr>\n",
       "    <tr>\n",
       "      <th>mean</th>\n",
       "      <td>6.068609e+07</td>\n",
       "      <td>4.267067e+08</td>\n",
       "      <td>1.840397e+03</td>\n",
       "      <td>4.945400e+04</td>\n",
       "      <td>1.748637e+00</td>\n",
       "    </tr>\n",
       "    <tr>\n",
       "      <th>std</th>\n",
       "      <td>1.926541e+05</td>\n",
       "      <td>1.916313e+05</td>\n",
       "      <td>8.269772e+02</td>\n",
       "      <td>7.536899e+03</td>\n",
       "      <td>7.712580e-01</td>\n",
       "    </tr>\n",
       "    <tr>\n",
       "      <th>min</th>\n",
       "      <td>6.033885e+07</td>\n",
       "      <td>4.263662e+08</td>\n",
       "      <td>-1.365600e+04</td>\n",
       "      <td>0.000000e+00</td>\n",
       "      <td>1.000000e+00</td>\n",
       "    </tr>\n",
       "    <tr>\n",
       "      <th>25%</th>\n",
       "      <td>6.051938e+07</td>\n",
       "      <td>4.265418e+08</td>\n",
       "      <td>1.538000e+03</td>\n",
       "      <td>4.622400e+04</td>\n",
       "      <td>1.000000e+00</td>\n",
       "    </tr>\n",
       "    <tr>\n",
       "      <th>50%</th>\n",
       "      <td>6.069257e+07</td>\n",
       "      <td>4.267121e+08</td>\n",
       "      <td>1.813000e+03</td>\n",
       "      <td>5.216500e+04</td>\n",
       "      <td>2.000000e+00</td>\n",
       "    </tr>\n",
       "    <tr>\n",
       "      <th>75%</th>\n",
       "      <td>6.085290e+07</td>\n",
       "      <td>4.268679e+08</td>\n",
       "      <td>2.037000e+03</td>\n",
       "      <td>5.450300e+04</td>\n",
       "      <td>2.000000e+00</td>\n",
       "    </tr>\n",
       "    <tr>\n",
       "      <th>max</th>\n",
       "      <td>6.102151e+07</td>\n",
       "      <td>4.270475e+08</td>\n",
       "      <td>2.080060e+05</td>\n",
       "      <td>6.553500e+04</td>\n",
       "      <td>2.000000e+01</td>\n",
       "    </tr>\n",
       "  </tbody>\n",
       "</table>\n",
       "</div>"
      ],
      "text/plain": [
       "                  X             Y             Z   reflectance         Class\n",
       "count  1.695773e+08  1.695773e+08  1.695773e+08  1.695773e+08  1.695773e+08\n",
       "mean   6.068609e+07  4.267067e+08  1.840397e+03  4.945400e+04  1.748637e+00\n",
       "std    1.926541e+05  1.916313e+05  8.269772e+02  7.536899e+03  7.712580e-01\n",
       "min    6.033885e+07  4.263662e+08 -1.365600e+04  0.000000e+00  1.000000e+00\n",
       "25%    6.051938e+07  4.265418e+08  1.538000e+03  4.622400e+04  1.000000e+00\n",
       "50%    6.069257e+07  4.267121e+08  1.813000e+03  5.216500e+04  2.000000e+00\n",
       "75%    6.085290e+07  4.268679e+08  2.037000e+03  5.450300e+04  2.000000e+00\n",
       "max    6.102151e+07  4.270475e+08  2.080060e+05  6.553500e+04  2.000000e+01"
      ]
     },
     "execution_count": 9,
     "metadata": {},
     "output_type": "execute_result"
    }
   ],
   "source": [
    "df.describe()"
   ]
  },
  {
   "cell_type": "code",
   "execution_count": 10,
   "id": "c17d2014-244a-46e6-a890-0865c04bfb08",
   "metadata": {},
   "outputs": [
    {
     "data": {
      "text/html": [
       "<div>\n",
       "<style scoped>\n",
       "    .dataframe tbody tr th:only-of-type {\n",
       "        vertical-align: middle;\n",
       "    }\n",
       "\n",
       "    .dataframe tbody tr th {\n",
       "        vertical-align: top;\n",
       "    }\n",
       "\n",
       "    .dataframe thead th {\n",
       "        text-align: right;\n",
       "    }\n",
       "</style>\n",
       "<table border=\"1\" class=\"dataframe\">\n",
       "  <thead>\n",
       "    <tr style=\"text-align: right;\">\n",
       "      <th></th>\n",
       "      <th>X</th>\n",
       "      <th>Y</th>\n",
       "      <th>Z</th>\n",
       "      <th>reflectance</th>\n",
       "      <th>Class</th>\n",
       "    </tr>\n",
       "  </thead>\n",
       "  <tbody>\n",
       "    <tr>\n",
       "      <th>0</th>\n",
       "      <td>61011822</td>\n",
       "      <td>427032655</td>\n",
       "      <td>1041</td>\n",
       "      <td>0.0</td>\n",
       "      <td>2</td>\n",
       "    </tr>\n",
       "    <tr>\n",
       "      <th>1</th>\n",
       "      <td>61011441</td>\n",
       "      <td>427032652</td>\n",
       "      <td>1041</td>\n",
       "      <td>0.0</td>\n",
       "      <td>2</td>\n",
       "    </tr>\n",
       "    <tr>\n",
       "      <th>2</th>\n",
       "      <td>61010827</td>\n",
       "      <td>427032396</td>\n",
       "      <td>1041</td>\n",
       "      <td>0.0</td>\n",
       "      <td>2</td>\n",
       "    </tr>\n",
       "    <tr>\n",
       "      <th>3</th>\n",
       "      <td>61011271</td>\n",
       "      <td>427032644</td>\n",
       "      <td>1047</td>\n",
       "      <td>0.0</td>\n",
       "      <td>2</td>\n",
       "    </tr>\n",
       "    <tr>\n",
       "      <th>4</th>\n",
       "      <td>61011634</td>\n",
       "      <td>427032847</td>\n",
       "      <td>1040</td>\n",
       "      <td>0.0</td>\n",
       "      <td>2</td>\n",
       "    </tr>\n",
       "    <tr>\n",
       "      <th>...</th>\n",
       "      <td>...</td>\n",
       "      <td>...</td>\n",
       "      <td>...</td>\n",
       "      <td>...</td>\n",
       "      <td>...</td>\n",
       "    </tr>\n",
       "    <tr>\n",
       "      <th>169577262</th>\n",
       "      <td>60398425</td>\n",
       "      <td>426691717</td>\n",
       "      <td>2045</td>\n",
       "      <td>0.0</td>\n",
       "      <td>2</td>\n",
       "    </tr>\n",
       "    <tr>\n",
       "      <th>169577263</th>\n",
       "      <td>60398495</td>\n",
       "      <td>426691757</td>\n",
       "      <td>2047</td>\n",
       "      <td>0.0</td>\n",
       "      <td>2</td>\n",
       "    </tr>\n",
       "    <tr>\n",
       "      <th>169577264</th>\n",
       "      <td>60398563</td>\n",
       "      <td>426691795</td>\n",
       "      <td>2046</td>\n",
       "      <td>0.0</td>\n",
       "      <td>2</td>\n",
       "    </tr>\n",
       "    <tr>\n",
       "      <th>169577265</th>\n",
       "      <td>60398244</td>\n",
       "      <td>426691759</td>\n",
       "      <td>2046</td>\n",
       "      <td>0.0</td>\n",
       "      <td>2</td>\n",
       "    </tr>\n",
       "    <tr>\n",
       "      <th>169577266</th>\n",
       "      <td>60398311</td>\n",
       "      <td>426691797</td>\n",
       "      <td>2046</td>\n",
       "      <td>0.0</td>\n",
       "      <td>2</td>\n",
       "    </tr>\n",
       "  </tbody>\n",
       "</table>\n",
       "<p>169577267 rows × 5 columns</p>\n",
       "</div>"
      ],
      "text/plain": [
       "                  X          Y     Z  reflectance  Class\n",
       "0          61011822  427032655  1041          0.0      2\n",
       "1          61011441  427032652  1041          0.0      2\n",
       "2          61010827  427032396  1041          0.0      2\n",
       "3          61011271  427032644  1047          0.0      2\n",
       "4          61011634  427032847  1040          0.0      2\n",
       "...             ...        ...   ...          ...    ...\n",
       "169577262  60398425  426691717  2045          0.0      2\n",
       "169577263  60398495  426691757  2047          0.0      2\n",
       "169577264  60398563  426691795  2046          0.0      2\n",
       "169577265  60398244  426691759  2046          0.0      2\n",
       "169577266  60398311  426691797  2046          0.0      2\n",
       "\n",
       "[169577267 rows x 5 columns]"
      ]
     },
     "execution_count": 10,
     "metadata": {},
     "output_type": "execute_result"
    }
   ],
   "source": [
    "df['reflectance'] = 0.0\n",
    "df"
   ]
  },
  {
   "cell_type": "code",
   "execution_count": 11,
   "id": "f5c7e23a-4f8a-4d44-9b0d-cde0044ea8ed",
   "metadata": {},
   "outputs": [
    {
     "data": {
      "text/plain": [
       "2     120856481\n",
       "1      48146421\n",
       "9        340727\n",
       "17       137442\n",
       "7         48951\n",
       "20        36774\n",
       "18        10471\n",
       "Name: Class, dtype: int64"
      ]
     },
     "execution_count": 11,
     "metadata": {},
     "output_type": "execute_result"
    }
   ],
   "source": [
    "df.Class.value_counts()"
   ]
  },
  {
   "cell_type": "markdown",
   "id": "8867bcd6-ae0d-4488-a032-1030ca377c50",
   "metadata": {},
   "source": [
    "<h2> Scale convert to Dale's scale\n",
    "    "
   ]
  },
  {
   "cell_type": "code",
   "execution_count": 12,
   "id": "ff11336c-951b-4939-9b1e-874245633fd4",
   "metadata": {},
   "outputs": [],
   "source": [
    "### Assign Control variables based on Dales training data set 5085_54320.ply\n",
    "control_x_min = 250.024994\n",
    "control_x_max = 750.075012\n",
    "\n",
    "control_y_min = 250.020004\n",
    "control_y_max = 750.059998\n",
    "\n",
    "control_z_min = 24.190001\n",
    "control_z_max = 72.570000"
   ]
  },
  {
   "cell_type": "code",
   "execution_count": 13,
   "id": "d99e849f-620c-457b-b193-f1d9c86d6770",
   "metadata": {},
   "outputs": [],
   "source": [
    "##### Assign LAS min - max difference from control 5085_54320.las]\n",
    "\n",
    "control_diff_x = 50005\n",
    "control_diff_y = 50004\n",
    "control_diff_z = 4838\n",
    "\n",
    "##### For new data feed in this will compare the ratio of our control diff then apply the adjusted ratio to the control min_max variables"
   ]
  },
  {
   "cell_type": "code",
   "execution_count": 14,
   "id": "29dae391-467d-48f3-a3c3-1f5c678aec23",
   "metadata": {},
   "outputs": [],
   "source": [
    "### new data las diff\n",
    "\n",
    "x_diff = df.X.max() - df.X.min()\n",
    "y_diff = df.Y.max() - df.Y.min()\n",
    "z_diff = df.Z.max() - df.Z.min()\n",
    "\n",
    "\n",
    "### adjusted ratio\n",
    "\n",
    "x_ratio = x_diff / control_diff_x\n",
    "y_ratio = y_diff / control_diff_y\n",
    "z_ratio = z_diff / control_diff_z\n"
   ]
  },
  {
   "cell_type": "code",
   "execution_count": 15,
   "id": "01ce5fce-647e-44d2-968a-c59232ed08d2",
   "metadata": {},
   "outputs": [],
   "source": [
    "##### Calculate new data min-max \n",
    "\n",
    "x_min = control_x_min * x_ratio\n",
    "x_max = control_x_max * x_ratio\n",
    "\n",
    "y_min = control_y_min * y_ratio\n",
    "y_max = control_y_max * y_ratio\n",
    "\n",
    "z_min = control_z_min * z_ratio\n",
    "z_max = control_z_max * z_ratio\n"
   ]
  },
  {
   "cell_type": "code",
   "execution_count": 16,
   "id": "aab33923-fe1d-490f-bacd-86d2f1d09187",
   "metadata": {},
   "outputs": [],
   "source": [
    "from sklearn.preprocessing import MinMaxScaler\n",
    "scaler_x = MinMaxScaler(feature_range=(x_min, x_max))\n",
    "scaler_y = MinMaxScaler(feature_range=(y_min, y_max))\n",
    "scaler_z = MinMaxScaler(feature_range=(z_min, z_max))"
   ]
  },
  {
   "cell_type": "code",
   "execution_count": 17,
   "id": "dbe3bf01-681d-484c-adae-774d455e46e1",
   "metadata": {},
   "outputs": [
    {
     "data": {
      "text/plain": [
       "array([[10143.05016034,  3772.59466786],\n",
       "       [10139.2401602 ,  3772.59466786],\n",
       "       [10133.10015998,  3772.59466786],\n",
       "       ...,\n",
       "       [ 4010.45993958,  3772.59466786],\n",
       "       [ 4007.26993947,  3772.59466786],\n",
       "       [ 4007.93993949,  3772.59466786]])"
      ]
     },
     "execution_count": 17,
     "metadata": {},
     "output_type": "execute_result"
    }
   ],
   "source": [
    "scaler_x.fit_transform(df[['X', 'Class']])"
   ]
  },
  {
   "cell_type": "code",
   "execution_count": 18,
   "id": "7c36d664-0ead-4cb2-8040-d06f56ba7c3e",
   "metadata": {},
   "outputs": [
    {
     "data": {
      "text/plain": [
       "array([[10071.16497453,  3765.00715546],\n",
       "       [10071.13497453,  3765.00715546],\n",
       "       [10068.57497456,  3765.00715546],\n",
       "       ...,\n",
       "       [ 6662.56501543,  3765.00715546],\n",
       "       [ 6662.20501543,  3765.00715546],\n",
       "       [ 6662.58501543,  3765.00715546]])"
      ]
     },
     "execution_count": 18,
     "metadata": {},
     "output_type": "execute_result"
    }
   ],
   "source": [
    "scaler_y.fit_transform(df[['Y', 'Class']])"
   ]
  },
  {
   "cell_type": "code",
   "execution_count": 19,
   "id": "9751cb1d-1863-4d57-b233-ef218bf0747c",
   "metadata": {},
   "outputs": [
    {
     "data": {
      "text/plain": [
       "array([[1255.28004278, 1224.97425393],\n",
       "       [1255.28004278, 1224.97425393],\n",
       "       [1255.28004278, 1224.97425393],\n",
       "       ...,\n",
       "       [1265.33004257, 1224.97425393],\n",
       "       [1265.33004257, 1224.97425393],\n",
       "       [1265.33004257, 1224.97425393]])"
      ]
     },
     "execution_count": 19,
     "metadata": {},
     "output_type": "execute_result"
    }
   ],
   "source": [
    "scaler_z.fit_transform(df[['Z', 'Class']])"
   ]
  },
  {
   "cell_type": "code",
   "execution_count": 20,
   "id": "d21e6433-beb9-4e53-b2d7-c618098cc21f",
   "metadata": {},
   "outputs": [
    {
     "data": {
      "text/html": [
       "<div>\n",
       "<style scoped>\n",
       "    .dataframe tbody tr th:only-of-type {\n",
       "        vertical-align: middle;\n",
       "    }\n",
       "\n",
       "    .dataframe tbody tr th {\n",
       "        vertical-align: top;\n",
       "    }\n",
       "\n",
       "    .dataframe thead th {\n",
       "        text-align: right;\n",
       "    }\n",
       "</style>\n",
       "<table border=\"1\" class=\"dataframe\">\n",
       "  <thead>\n",
       "    <tr style=\"text-align: right;\">\n",
       "      <th></th>\n",
       "      <th>X</th>\n",
       "      <th>Y</th>\n",
       "      <th>Z</th>\n",
       "      <th>reflectance</th>\n",
       "      <th>Class</th>\n",
       "    </tr>\n",
       "  </thead>\n",
       "  <tbody>\n",
       "    <tr>\n",
       "      <th>0</th>\n",
       "      <td>10143.050160</td>\n",
       "      <td>10071.164975</td>\n",
       "      <td>1255.280043</td>\n",
       "      <td>0.0</td>\n",
       "      <td>2</td>\n",
       "    </tr>\n",
       "    <tr>\n",
       "      <th>1</th>\n",
       "      <td>10139.240160</td>\n",
       "      <td>10071.134975</td>\n",
       "      <td>1255.280043</td>\n",
       "      <td>0.0</td>\n",
       "      <td>2</td>\n",
       "    </tr>\n",
       "    <tr>\n",
       "      <th>2</th>\n",
       "      <td>10133.100160</td>\n",
       "      <td>10068.574975</td>\n",
       "      <td>1255.280043</td>\n",
       "      <td>0.0</td>\n",
       "      <td>2</td>\n",
       "    </tr>\n",
       "    <tr>\n",
       "      <th>3</th>\n",
       "      <td>10137.540160</td>\n",
       "      <td>10071.054975</td>\n",
       "      <td>1255.340043</td>\n",
       "      <td>0.0</td>\n",
       "      <td>2</td>\n",
       "    </tr>\n",
       "    <tr>\n",
       "      <th>4</th>\n",
       "      <td>10141.170160</td>\n",
       "      <td>10073.084975</td>\n",
       "      <td>1255.270043</td>\n",
       "      <td>0.0</td>\n",
       "      <td>2</td>\n",
       "    </tr>\n",
       "    <tr>\n",
       "      <th>...</th>\n",
       "      <td>...</td>\n",
       "      <td>...</td>\n",
       "      <td>...</td>\n",
       "      <td>...</td>\n",
       "      <td>...</td>\n",
       "    </tr>\n",
       "    <tr>\n",
       "      <th>169577262</th>\n",
       "      <td>4009.079940</td>\n",
       "      <td>6661.785015</td>\n",
       "      <td>1265.320043</td>\n",
       "      <td>0.0</td>\n",
       "      <td>2</td>\n",
       "    </tr>\n",
       "    <tr>\n",
       "      <th>169577263</th>\n",
       "      <td>4009.779940</td>\n",
       "      <td>6662.185015</td>\n",
       "      <td>1265.340043</td>\n",
       "      <td>0.0</td>\n",
       "      <td>2</td>\n",
       "    </tr>\n",
       "    <tr>\n",
       "      <th>169577264</th>\n",
       "      <td>4010.459940</td>\n",
       "      <td>6662.565015</td>\n",
       "      <td>1265.330043</td>\n",
       "      <td>0.0</td>\n",
       "      <td>2</td>\n",
       "    </tr>\n",
       "    <tr>\n",
       "      <th>169577265</th>\n",
       "      <td>4007.269939</td>\n",
       "      <td>6662.205015</td>\n",
       "      <td>1265.330043</td>\n",
       "      <td>0.0</td>\n",
       "      <td>2</td>\n",
       "    </tr>\n",
       "    <tr>\n",
       "      <th>169577266</th>\n",
       "      <td>4007.939939</td>\n",
       "      <td>6662.585015</td>\n",
       "      <td>1265.330043</td>\n",
       "      <td>0.0</td>\n",
       "      <td>2</td>\n",
       "    </tr>\n",
       "  </tbody>\n",
       "</table>\n",
       "<p>169577267 rows × 5 columns</p>\n",
       "</div>"
      ],
      "text/plain": [
       "                      X             Y            Z  reflectance  Class\n",
       "0          10143.050160  10071.164975  1255.280043          0.0      2\n",
       "1          10139.240160  10071.134975  1255.280043          0.0      2\n",
       "2          10133.100160  10068.574975  1255.280043          0.0      2\n",
       "3          10137.540160  10071.054975  1255.340043          0.0      2\n",
       "4          10141.170160  10073.084975  1255.270043          0.0      2\n",
       "...                 ...           ...          ...          ...    ...\n",
       "169577262   4009.079940   6661.785015  1265.320043          0.0      2\n",
       "169577263   4009.779940   6662.185015  1265.340043          0.0      2\n",
       "169577264   4010.459940   6662.565015  1265.330043          0.0      2\n",
       "169577265   4007.269939   6662.205015  1265.330043          0.0      2\n",
       "169577266   4007.939939   6662.585015  1265.330043          0.0      2\n",
       "\n",
       "[169577267 rows x 5 columns]"
      ]
     },
     "execution_count": 20,
     "metadata": {},
     "output_type": "execute_result"
    }
   ],
   "source": [
    "df['X'] = scaler_x.fit_transform(df[['X', 'Class']])[:,0]\n",
    "df['Y'] = scaler_y.fit_transform(df[['Y', 'Class']])[:,0]\n",
    "df['Z'] = scaler_z.fit_transform(df[['Z', 'Class']])[:,0]\n",
    "df"
   ]
  },
  {
   "cell_type": "markdown",
   "id": "9328b9c2-8f8a-4dfe-9a6d-f67530424908",
   "metadata": {},
   "source": [
    "<h2> Convert to Ply"
   ]
  },
  {
   "cell_type": "code",
   "execution_count": 21,
   "id": "d2a2da4c-2ce7-4eba-ac45-fbb79958f75e",
   "metadata": {},
   "outputs": [],
   "source": [
    "arr = df.to_numpy()"
   ]
  },
  {
   "cell_type": "code",
   "execution_count": 22,
   "id": "08282c6e-e97c-47f5-a919-a0ac4acd14b5",
   "metadata": {},
   "outputs": [
    {
     "ename": "KeyboardInterrupt",
     "evalue": "",
     "output_type": "error",
     "traceback": [
      "\u001b[0;31m---------------------------------------------------------------------------\u001b[0m",
      "\u001b[0;31mKeyboardInterrupt\u001b[0m                         Traceback (most recent call last)",
      "    \u001b[0;31m[... skipping hidden 1 frame]\u001b[0m\n",
      "Input \u001b[0;32mIn [22]\u001b[0m, in \u001b[0;36m<cell line: 1>\u001b[0;34m()\u001b[0m\n\u001b[0;32m----> 1\u001b[0m some_arr \u001b[38;5;241m=\u001b[39m np\u001b[38;5;241m.\u001b[39marray([\u001b[38;5;28mtuple\u001b[39m(i) \u001b[38;5;28;01mfor\u001b[39;00m i \u001b[38;5;129;01min\u001b[39;00m arr], dtype\u001b[38;5;241m=\u001b[39m[(\u001b[38;5;124m'\u001b[39m\u001b[38;5;124mx\u001b[39m\u001b[38;5;124m'\u001b[39m, \u001b[38;5;124m'\u001b[39m\u001b[38;5;124mf4\u001b[39m\u001b[38;5;124m'\u001b[39m), (\u001b[38;5;124m'\u001b[39m\u001b[38;5;124my\u001b[39m\u001b[38;5;124m'\u001b[39m, \u001b[38;5;124m'\u001b[39m\u001b[38;5;124mf4\u001b[39m\u001b[38;5;124m'\u001b[39m), (\u001b[38;5;124m'\u001b[39m\u001b[38;5;124mz\u001b[39m\u001b[38;5;124m'\u001b[39m, \u001b[38;5;124m'\u001b[39m\u001b[38;5;124mf4\u001b[39m\u001b[38;5;124m'\u001b[39m),(\u001b[38;5;124m'\u001b[39m\u001b[38;5;124mreflectance\u001b[39m\u001b[38;5;124m'\u001b[39m, \u001b[38;5;124m'\u001b[39m\u001b[38;5;124mf4\u001b[39m\u001b[38;5;124m'\u001b[39m),(\u001b[38;5;124m'\u001b[39m\u001b[38;5;124mclass\u001b[39m\u001b[38;5;124m'\u001b[39m, \u001b[38;5;124m'\u001b[39m\u001b[38;5;124mf4\u001b[39m\u001b[38;5;124m'\u001b[39m)])\n",
      "Input \u001b[0;32mIn [22]\u001b[0m, in \u001b[0;36m<listcomp>\u001b[0;34m(.0)\u001b[0m\n\u001b[0;32m----> 1\u001b[0m some_arr \u001b[38;5;241m=\u001b[39m np\u001b[38;5;241m.\u001b[39marray([\u001b[38;5;28;43mtuple\u001b[39;49m\u001b[43m(\u001b[49m\u001b[43mi\u001b[49m\u001b[43m)\u001b[49m \u001b[38;5;28;01mfor\u001b[39;00m i \u001b[38;5;129;01min\u001b[39;00m arr], dtype\u001b[38;5;241m=\u001b[39m[(\u001b[38;5;124m'\u001b[39m\u001b[38;5;124mx\u001b[39m\u001b[38;5;124m'\u001b[39m, \u001b[38;5;124m'\u001b[39m\u001b[38;5;124mf4\u001b[39m\u001b[38;5;124m'\u001b[39m), (\u001b[38;5;124m'\u001b[39m\u001b[38;5;124my\u001b[39m\u001b[38;5;124m'\u001b[39m, \u001b[38;5;124m'\u001b[39m\u001b[38;5;124mf4\u001b[39m\u001b[38;5;124m'\u001b[39m), (\u001b[38;5;124m'\u001b[39m\u001b[38;5;124mz\u001b[39m\u001b[38;5;124m'\u001b[39m, \u001b[38;5;124m'\u001b[39m\u001b[38;5;124mf4\u001b[39m\u001b[38;5;124m'\u001b[39m),(\u001b[38;5;124m'\u001b[39m\u001b[38;5;124mreflectance\u001b[39m\u001b[38;5;124m'\u001b[39m, \u001b[38;5;124m'\u001b[39m\u001b[38;5;124mf4\u001b[39m\u001b[38;5;124m'\u001b[39m),(\u001b[38;5;124m'\u001b[39m\u001b[38;5;124mclass\u001b[39m\u001b[38;5;124m'\u001b[39m, \u001b[38;5;124m'\u001b[39m\u001b[38;5;124mf4\u001b[39m\u001b[38;5;124m'\u001b[39m)])\n",
      "\u001b[0;31mKeyboardInterrupt\u001b[0m: ",
      "\nDuring handling of the above exception, another exception occurred:\n",
      "\u001b[0;31mKeyboardInterrupt\u001b[0m                         Traceback (most recent call last)",
      "\u001b[0;31mKeyboardInterrupt\u001b[0m: "
     ]
    }
   ],
   "source": [
    "some_arr = np.array([tuple(i) for i in arr], dtype=[('x', 'f4'), ('y', 'f4'), ('z', 'f4'),('reflectance', 'f4'),('class', 'f4')])"
   ]
  },
  {
   "cell_type": "code",
   "execution_count": null,
   "id": "a822419c-6355-43ad-ae76-67c5244ecb03",
   "metadata": {},
   "outputs": [],
   "source": [
    "some_arr"
   ]
  },
  {
   "cell_type": "code",
   "execution_count": null,
   "id": "de7ddb11-da4e-46a8-91ef-d58c20417a2f",
   "metadata": {},
   "outputs": [],
   "source": [
    "el = PlyElement.describe(some_arr, 'vertex')"
   ]
  },
  {
   "cell_type": "code",
   "execution_count": null,
   "id": "322ed9b8-7b52-462d-a9ad-f13cae89d8b3",
   "metadata": {},
   "outputs": [],
   "source": [
    "%%time\n",
    "PlyData([el], text=True).write('davis_big.ply')"
   ]
  },
  {
   "cell_type": "code",
   "execution_count": null,
   "id": "5fea7db2-54e3-4702-834a-0c25709044bf",
   "metadata": {},
   "outputs": [],
   "source": []
  },
  {
   "cell_type": "code",
   "execution_count": null,
   "id": "38b5a126-a4aa-4d3f-a714-0f66d782ec63",
   "metadata": {},
   "outputs": [],
   "source": []
  }
 ],
 "metadata": {
  "kernelspec": {
   "display_name": "Python 3 (ipykernel)",
   "language": "python",
   "name": "python3"
  },
  "language_info": {
   "codemirror_mode": {
    "name": "ipython",
    "version": 3
   },
   "file_extension": ".py",
   "mimetype": "text/x-python",
   "name": "python",
   "nbconvert_exporter": "python",
   "pygments_lexer": "ipython3",
   "version": "3.10.6"
  }
 },
 "nbformat": 4,
 "nbformat_minor": 5
}
