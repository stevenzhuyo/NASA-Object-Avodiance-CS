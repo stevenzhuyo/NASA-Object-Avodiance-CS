{
 "cells": [
  {
   "cell_type": "code",
   "execution_count": 1,
   "id": "e05cc475-ec1b-41b1-b6ac-5c052ef565de",
   "metadata": {},
   "outputs": [],
   "source": [
    "import trimesh\n",
    "from plyfile import PlyData, PlyElement, PlyProperty\n",
    "import numpy as np\n",
    "import laspy as lp"
   ]
  },
  {
   "cell_type": "code",
   "execution_count": 32,
   "id": "64f4ff17-3ac0-4ca8-9dc7-d45426f006cc",
   "metadata": {},
   "outputs": [],
   "source": [
    "import numpy as np\n",
    "import pandas as pd"
   ]
  },
  {
   "cell_type": "code",
   "execution_count": 3,
   "id": "d6444794-9084-4e49-b3fb-34b8ca59c9b4",
   "metadata": {},
   "outputs": [],
   "source": [
    "# point_cloud=lp.read(\"davis.las\")\n",
    "# original_class = np.array(point_cloud.classification)"
   ]
  },
  {
   "cell_type": "code",
   "execution_count": 4,
   "id": "64b0d155-2552-4a42-bb40-5ee2005938a5",
   "metadata": {},
   "outputs": [],
   "source": [
    "plydata = PlyData.read('predictions/bin_davis_008.ply')"
   ]
  },
  {
   "cell_type": "code",
   "execution_count": 5,
   "id": "67e30b2a-4de5-4284-98e4-d8794d19f399",
   "metadata": {},
   "outputs": [
    {
     "data": {
      "text/plain": [
       "(PlyElement('vertex', (PlyProperty('x', 'float'), PlyProperty('y', 'float'), PlyProperty('z', 'float'), PlyProperty('preds', 'int'), PlyProperty('pots', 'double')), count=2595810, comments=[]),)"
      ]
     },
     "execution_count": 5,
     "metadata": {},
     "output_type": "execute_result"
    }
   ],
   "source": [
    "plydata.elements"
   ]
  },
  {
   "cell_type": "code",
   "execution_count": 6,
   "id": "36851a7f-a531-4bec-9624-6c6bc8290a6a",
   "metadata": {},
   "outputs": [
    {
     "data": {
      "text/plain": [
       "(PlyProperty('x', 'float'),\n",
       " PlyProperty('y', 'float'),\n",
       " PlyProperty('z', 'float'),\n",
       " PlyProperty('preds', 'int'),\n",
       " PlyProperty('pots', 'double'))"
      ]
     },
     "execution_count": 6,
     "metadata": {},
     "output_type": "execute_result"
    }
   ],
   "source": [
    "plydata.elements[0].properties"
   ]
  },
  {
   "cell_type": "code",
   "execution_count": 7,
   "id": "e1ba4022-466c-4db2-9771-648d1218eb05",
   "metadata": {},
   "outputs": [
    {
     "data": {
      "text/plain": [
       "2595810"
      ]
     },
     "execution_count": 7,
     "metadata": {},
     "output_type": "execute_result"
    }
   ],
   "source": [
    "plydata.elements[0].count"
   ]
  },
  {
   "cell_type": "code",
   "execution_count": 8,
   "id": "29938841-6657-4298-9e9d-32103118221c",
   "metadata": {},
   "outputs": [
    {
     "data": {
      "text/plain": [
       "PlyElement('vertex', (PlyProperty('x', 'float'), PlyProperty('y', 'float'), PlyProperty('z', 'float'), PlyProperty('preds', 'int'), PlyProperty('pots', 'double')), count=2595810, comments=[])"
      ]
     },
     "execution_count": 8,
     "metadata": {},
     "output_type": "execute_result"
    }
   ],
   "source": [
    "plydata['vertex']"
   ]
  },
  {
   "cell_type": "code",
   "execution_count": 9,
   "id": "58dc61e1-c339-4446-9c76-a52e94c04697",
   "metadata": {},
   "outputs": [],
   "source": [
    "point_data = np.stack([plydata['vertex']['x'], plydata['vertex']['y'], plydata['vertex']['z'], plydata['vertex']['preds']], axis=0).transpose((1, 0))\n"
   ]
  },
  {
   "cell_type": "code",
   "execution_count": 10,
   "id": "1d5ca53e-15cc-43c0-8eb6-40f35ed549d1",
   "metadata": {},
   "outputs": [
    {
     "data": {
      "text/plain": [
       "array([[7.44434998e+02, 1.09817004e+03, 1.95235001e+02, 1.00000000e+00],\n",
       "       [7.46505005e+02, 1.09818005e+03, 1.95215012e+02, 1.00000000e+00],\n",
       "       [7.53794983e+02, 1.09825000e+03, 1.95085007e+02, 1.00000000e+00],\n",
       "       ...,\n",
       "       [4.88005005e+02, 1.07270996e+03, 2.07865005e+02, 8.00000000e+00],\n",
       "       [4.90855011e+02, 1.07515002e+03, 2.06855011e+02, 8.00000000e+00],\n",
       "       [4.90484985e+02, 1.07566003e+03, 2.06835007e+02, 8.00000000e+00]])"
      ]
     },
     "execution_count": 10,
     "metadata": {},
     "output_type": "execute_result"
    }
   ],
   "source": [
    "point_data"
   ]
  },
  {
   "cell_type": "code",
   "execution_count": 11,
   "id": "e60c800b-1e39-4cde-b2a8-7c7c3d68b239",
   "metadata": {},
   "outputs": [],
   "source": []
  },
  {
   "cell_type": "code",
   "execution_count": 12,
   "id": "b0f9338d-382f-4297-91cb-eacfdccb001c",
   "metadata": {},
   "outputs": [
    {
     "data": {
      "text/html": [
       "<div>\n",
       "<style scoped>\n",
       "    .dataframe tbody tr th:only-of-type {\n",
       "        vertical-align: middle;\n",
       "    }\n",
       "\n",
       "    .dataframe tbody tr th {\n",
       "        vertical-align: top;\n",
       "    }\n",
       "\n",
       "    .dataframe thead th {\n",
       "        text-align: right;\n",
       "    }\n",
       "</style>\n",
       "<table border=\"1\" class=\"dataframe\">\n",
       "  <thead>\n",
       "    <tr style=\"text-align: right;\">\n",
       "      <th></th>\n",
       "      <th>X</th>\n",
       "      <th>Y</th>\n",
       "      <th>Z</th>\n",
       "      <th>Class</th>\n",
       "    </tr>\n",
       "  </thead>\n",
       "  <tbody>\n",
       "    <tr>\n",
       "      <th>0</th>\n",
       "      <td>744.434998</td>\n",
       "      <td>1098.170044</td>\n",
       "      <td>195.235001</td>\n",
       "      <td>1.0</td>\n",
       "    </tr>\n",
       "    <tr>\n",
       "      <th>1</th>\n",
       "      <td>746.505005</td>\n",
       "      <td>1098.180054</td>\n",
       "      <td>195.215012</td>\n",
       "      <td>1.0</td>\n",
       "    </tr>\n",
       "    <tr>\n",
       "      <th>2</th>\n",
       "      <td>753.794983</td>\n",
       "      <td>1098.250000</td>\n",
       "      <td>195.085007</td>\n",
       "      <td>1.0</td>\n",
       "    </tr>\n",
       "    <tr>\n",
       "      <th>3</th>\n",
       "      <td>752.934998</td>\n",
       "      <td>1098.250000</td>\n",
       "      <td>198.425003</td>\n",
       "      <td>2.0</td>\n",
       "    </tr>\n",
       "    <tr>\n",
       "      <th>4</th>\n",
       "      <td>752.424988</td>\n",
       "      <td>1096.829956</td>\n",
       "      <td>200.645004</td>\n",
       "      <td>2.0</td>\n",
       "    </tr>\n",
       "    <tr>\n",
       "      <th>...</th>\n",
       "      <td>...</td>\n",
       "      <td>...</td>\n",
       "      <td>...</td>\n",
       "      <td>...</td>\n",
       "    </tr>\n",
       "    <tr>\n",
       "      <th>2595805</th>\n",
       "      <td>489.815002</td>\n",
       "      <td>1070.910034</td>\n",
       "      <td>204.195007</td>\n",
       "      <td>1.0</td>\n",
       "    </tr>\n",
       "    <tr>\n",
       "      <th>2595806</th>\n",
       "      <td>488.044983</td>\n",
       "      <td>1071.250000</td>\n",
       "      <td>205.285004</td>\n",
       "      <td>8.0</td>\n",
       "    </tr>\n",
       "    <tr>\n",
       "      <th>2595807</th>\n",
       "      <td>488.005005</td>\n",
       "      <td>1072.709961</td>\n",
       "      <td>207.865005</td>\n",
       "      <td>8.0</td>\n",
       "    </tr>\n",
       "    <tr>\n",
       "      <th>2595808</th>\n",
       "      <td>490.855011</td>\n",
       "      <td>1075.150024</td>\n",
       "      <td>206.855011</td>\n",
       "      <td>8.0</td>\n",
       "    </tr>\n",
       "    <tr>\n",
       "      <th>2595809</th>\n",
       "      <td>490.484985</td>\n",
       "      <td>1075.660034</td>\n",
       "      <td>206.835007</td>\n",
       "      <td>8.0</td>\n",
       "    </tr>\n",
       "  </tbody>\n",
       "</table>\n",
       "<p>2595810 rows × 4 columns</p>\n",
       "</div>"
      ],
      "text/plain": [
       "                  X            Y           Z  Class\n",
       "0        744.434998  1098.170044  195.235001    1.0\n",
       "1        746.505005  1098.180054  195.215012    1.0\n",
       "2        753.794983  1098.250000  195.085007    1.0\n",
       "3        752.934998  1098.250000  198.425003    2.0\n",
       "4        752.424988  1096.829956  200.645004    2.0\n",
       "...             ...          ...         ...    ...\n",
       "2595805  489.815002  1070.910034  204.195007    1.0\n",
       "2595806  488.044983  1071.250000  205.285004    8.0\n",
       "2595807  488.005005  1072.709961  207.865005    8.0\n",
       "2595808  490.855011  1075.150024  206.855011    8.0\n",
       "2595809  490.484985  1075.660034  206.835007    8.0\n",
       "\n",
       "[2595810 rows x 4 columns]"
      ]
     },
     "execution_count": 12,
     "metadata": {},
     "output_type": "execute_result"
    }
   ],
   "source": [
    "df = pd.DataFrame(data=point_data, columns=['X','Y','Z','Class'])\n",
    "df"
   ]
  },
  {
   "cell_type": "code",
   "execution_count": 13,
   "id": "e92b546d-21fc-4f5a-bc92-777d111a92eb",
   "metadata": {},
   "outputs": [
    {
     "data": {
      "text/plain": [
       "1.0    1406072\n",
       "2.0     736200\n",
       "8.0     447463\n",
       "4.0       5236\n",
       "5.0        473\n",
       "3.0        276\n",
       "7.0         90\n",
       "Name: Class, dtype: int64"
      ]
     },
     "execution_count": 13,
     "metadata": {},
     "output_type": "execute_result"
    }
   ],
   "source": [
    "df.Class.value_counts()"
   ]
  },
  {
   "cell_type": "code",
   "execution_count": 14,
   "id": "59ae002f-ff23-42ab-a16d-f8b05b0f47bd",
   "metadata": {},
   "outputs": [
    {
     "data": {
      "text/plain": [
       "201.4250030517578"
      ]
     },
     "execution_count": 14,
     "metadata": {},
     "output_type": "execute_result"
    }
   ],
   "source": [
    "threshold = df.Z.where(df.Class == 8)\n",
    "threshold.quantile(0.35)"
   ]
  },
  {
   "cell_type": "code",
   "execution_count": 15,
   "id": "70a36012-14e1-49af-a0de-37dbdefa865e",
   "metadata": {},
   "outputs": [
    {
     "data": {
      "text/plain": [
       "1.0    1333171\n",
       "2.0     736200\n",
       "8.0     520364\n",
       "4.0       5236\n",
       "5.0        473\n",
       "3.0        276\n",
       "7.0         90\n",
       "Name: Class, dtype: int64"
      ]
     },
     "execution_count": 15,
     "metadata": {},
     "output_type": "execute_result"
    }
   ],
   "source": [
    "df['Class'] = np.where((df['Class'] ==1) & (df['Z'] > threshold.quantile(0.4)), 8, df['Class'])\n",
    "df.Class.value_counts()"
   ]
  },
  {
   "cell_type": "code",
   "execution_count": null,
   "id": "caa2b519-2b85-4546-9653-32ee26846d48",
   "metadata": {},
   "outputs": [],
   "source": []
  },
  {
   "cell_type": "code",
   "execution_count": 16,
   "id": "8549b006-ef2d-46c0-931a-9b6a2e48b746",
   "metadata": {},
   "outputs": [],
   "source": [
    "# df['o_class'] = original_class\n",
    "# df"
   ]
  },
  {
   "cell_type": "code",
   "execution_count": 17,
   "id": "f7a3365d-ef79-4b5c-a2a5-e7826747c48f",
   "metadata": {},
   "outputs": [],
   "source": [
    "# df['o_class'].value_counts()"
   ]
  },
  {
   "cell_type": "code",
   "execution_count": 18,
   "id": "c4354940-885b-43b0-969f-1201b4495a60",
   "metadata": {},
   "outputs": [],
   "source": [
    "# df['Class'] = np.where(df['o_class']==1, 1, df['Class'])\n",
    "# df['Class'] = np.where((df['Class'] ==1) & (df['o_class']!=1), 8, df['Class'])\n"
   ]
  },
  {
   "cell_type": "code",
   "execution_count": 19,
   "id": "bc8fd2cc-1011-49f9-b04a-a229c4b765f5",
   "metadata": {},
   "outputs": [],
   "source": [
    "# df.Class.value_counts()"
   ]
  },
  {
   "cell_type": "code",
   "execution_count": 20,
   "id": "83a90056-b413-4e73-948f-d663b3bd0e5d",
   "metadata": {},
   "outputs": [],
   "source": [
    "# df = df.drop('o_class', axis=1)"
   ]
  },
  {
   "cell_type": "code",
   "execution_count": 21,
   "id": "b693b2e1-33b1-4801-a8be-b3bf9cbb52a3",
   "metadata": {},
   "outputs": [],
   "source": [
    "df['r']= 0.0\n",
    "df['g']= 0.0\n",
    "df['b']= 0.0"
   ]
  },
  {
   "cell_type": "code",
   "execution_count": 22,
   "id": "f448cd06-7817-4288-89c8-6b72b4a48e44",
   "metadata": {},
   "outputs": [
    {
     "data": {
      "text/html": [
       "<div>\n",
       "<style scoped>\n",
       "    .dataframe tbody tr th:only-of-type {\n",
       "        vertical-align: middle;\n",
       "    }\n",
       "\n",
       "    .dataframe tbody tr th {\n",
       "        vertical-align: top;\n",
       "    }\n",
       "\n",
       "    .dataframe thead th {\n",
       "        text-align: right;\n",
       "    }\n",
       "</style>\n",
       "<table border=\"1\" class=\"dataframe\">\n",
       "  <thead>\n",
       "    <tr style=\"text-align: right;\">\n",
       "      <th></th>\n",
       "      <th>X</th>\n",
       "      <th>Y</th>\n",
       "      <th>Z</th>\n",
       "      <th>Class</th>\n",
       "      <th>r</th>\n",
       "      <th>g</th>\n",
       "      <th>b</th>\n",
       "    </tr>\n",
       "  </thead>\n",
       "  <tbody>\n",
       "    <tr>\n",
       "      <th>0</th>\n",
       "      <td>744.434998</td>\n",
       "      <td>1098.170044</td>\n",
       "      <td>195.235001</td>\n",
       "      <td>1.0</td>\n",
       "      <td>0.0</td>\n",
       "      <td>0.0</td>\n",
       "      <td>0.0</td>\n",
       "    </tr>\n",
       "    <tr>\n",
       "      <th>1</th>\n",
       "      <td>746.505005</td>\n",
       "      <td>1098.180054</td>\n",
       "      <td>195.215012</td>\n",
       "      <td>1.0</td>\n",
       "      <td>0.0</td>\n",
       "      <td>0.0</td>\n",
       "      <td>0.0</td>\n",
       "    </tr>\n",
       "    <tr>\n",
       "      <th>2</th>\n",
       "      <td>753.794983</td>\n",
       "      <td>1098.250000</td>\n",
       "      <td>195.085007</td>\n",
       "      <td>1.0</td>\n",
       "      <td>0.0</td>\n",
       "      <td>0.0</td>\n",
       "      <td>0.0</td>\n",
       "    </tr>\n",
       "    <tr>\n",
       "      <th>3</th>\n",
       "      <td>752.934998</td>\n",
       "      <td>1098.250000</td>\n",
       "      <td>198.425003</td>\n",
       "      <td>2.0</td>\n",
       "      <td>0.0</td>\n",
       "      <td>0.0</td>\n",
       "      <td>0.0</td>\n",
       "    </tr>\n",
       "    <tr>\n",
       "      <th>4</th>\n",
       "      <td>752.424988</td>\n",
       "      <td>1096.829956</td>\n",
       "      <td>200.645004</td>\n",
       "      <td>2.0</td>\n",
       "      <td>0.0</td>\n",
       "      <td>0.0</td>\n",
       "      <td>0.0</td>\n",
       "    </tr>\n",
       "    <tr>\n",
       "      <th>...</th>\n",
       "      <td>...</td>\n",
       "      <td>...</td>\n",
       "      <td>...</td>\n",
       "      <td>...</td>\n",
       "      <td>...</td>\n",
       "      <td>...</td>\n",
       "      <td>...</td>\n",
       "    </tr>\n",
       "    <tr>\n",
       "      <th>2595805</th>\n",
       "      <td>489.815002</td>\n",
       "      <td>1070.910034</td>\n",
       "      <td>204.195007</td>\n",
       "      <td>8.0</td>\n",
       "      <td>0.0</td>\n",
       "      <td>0.0</td>\n",
       "      <td>0.0</td>\n",
       "    </tr>\n",
       "    <tr>\n",
       "      <th>2595806</th>\n",
       "      <td>488.044983</td>\n",
       "      <td>1071.250000</td>\n",
       "      <td>205.285004</td>\n",
       "      <td>8.0</td>\n",
       "      <td>0.0</td>\n",
       "      <td>0.0</td>\n",
       "      <td>0.0</td>\n",
       "    </tr>\n",
       "    <tr>\n",
       "      <th>2595807</th>\n",
       "      <td>488.005005</td>\n",
       "      <td>1072.709961</td>\n",
       "      <td>207.865005</td>\n",
       "      <td>8.0</td>\n",
       "      <td>0.0</td>\n",
       "      <td>0.0</td>\n",
       "      <td>0.0</td>\n",
       "    </tr>\n",
       "    <tr>\n",
       "      <th>2595808</th>\n",
       "      <td>490.855011</td>\n",
       "      <td>1075.150024</td>\n",
       "      <td>206.855011</td>\n",
       "      <td>8.0</td>\n",
       "      <td>0.0</td>\n",
       "      <td>0.0</td>\n",
       "      <td>0.0</td>\n",
       "    </tr>\n",
       "    <tr>\n",
       "      <th>2595809</th>\n",
       "      <td>490.484985</td>\n",
       "      <td>1075.660034</td>\n",
       "      <td>206.835007</td>\n",
       "      <td>8.0</td>\n",
       "      <td>0.0</td>\n",
       "      <td>0.0</td>\n",
       "      <td>0.0</td>\n",
       "    </tr>\n",
       "  </tbody>\n",
       "</table>\n",
       "<p>2595810 rows × 7 columns</p>\n",
       "</div>"
      ],
      "text/plain": [
       "                  X            Y           Z  Class    r    g    b\n",
       "0        744.434998  1098.170044  195.235001    1.0  0.0  0.0  0.0\n",
       "1        746.505005  1098.180054  195.215012    1.0  0.0  0.0  0.0\n",
       "2        753.794983  1098.250000  195.085007    1.0  0.0  0.0  0.0\n",
       "3        752.934998  1098.250000  198.425003    2.0  0.0  0.0  0.0\n",
       "4        752.424988  1096.829956  200.645004    2.0  0.0  0.0  0.0\n",
       "...             ...          ...         ...    ...  ...  ...  ...\n",
       "2595805  489.815002  1070.910034  204.195007    8.0  0.0  0.0  0.0\n",
       "2595806  488.044983  1071.250000  205.285004    8.0  0.0  0.0  0.0\n",
       "2595807  488.005005  1072.709961  207.865005    8.0  0.0  0.0  0.0\n",
       "2595808  490.855011  1075.150024  206.855011    8.0  0.0  0.0  0.0\n",
       "2595809  490.484985  1075.660034  206.835007    8.0  0.0  0.0  0.0\n",
       "\n",
       "[2595810 rows x 7 columns]"
      ]
     },
     "execution_count": 22,
     "metadata": {},
     "output_type": "execute_result"
    }
   ],
   "source": [
    "df"
   ]
  },
  {
   "cell_type": "code",
   "execution_count": 23,
   "id": "ff1b1232-137c-46ca-8479-f9b59de95a32",
   "metadata": {},
   "outputs": [
    {
     "data": {
      "text/plain": [
       "1.0    1333171\n",
       "2.0     736200\n",
       "8.0     520364\n",
       "4.0       5236\n",
       "5.0        473\n",
       "3.0        276\n",
       "7.0         90\n",
       "Name: Class, dtype: int64"
      ]
     },
     "execution_count": 23,
     "metadata": {},
     "output_type": "execute_result"
    }
   ],
   "source": [
    "df['Class'].value_counts()"
   ]
  },
  {
   "cell_type": "code",
   "execution_count": 24,
   "id": "2d8a02cf-8610-467d-b544-7c202f4f4d89",
   "metadata": {},
   "outputs": [
    {
     "name": "stderr",
     "output_type": "stream",
     "text": [
      "IOStream.flush timed out\n",
      "IOStream.flush timed out\n",
      "IOStream.flush timed out\n"
     ]
    },
    {
     "name": "stdout",
     "output_type": "stream",
     "text": [
      "CPU times: user 3min 28s, sys: 10.8 s, total: 3min 39s\n",
      "Wall time: 3min 30s\n"
     ]
    }
   ],
   "source": [
    "%%time\n",
    "import warnings\n",
    "warnings.filterwarnings('ignore')\n",
    "for idx, x in enumerate(df['Class']):\n",
    "    if x == 1.0: ## groud Blue\n",
    "        df['b'][idx] = 95\n",
    "        # df['r'][idx] = 173\n",
    "        # df['g'][idx] = 216\n",
    "        # df['b'][idx] = 230\n",
    "    elif x == 2.0: ## veg Dark Green\n",
    "        df['r'][idx] = 2\n",
    "        df['g'][idx] = 50\n",
    "        df['b'][idx] = 35\n",
    "    elif x == 3.0: ## cars Pink\n",
    "        df['r'][idx] = 255\n",
    "        df['g'][idx] = 105\n",
    "        df['b'][idx] = 180\n",
    "    elif x == 4.0: ## truck Yellow\n",
    "        df['r'][idx] = 255\n",
    "        df['g'][idx] = 255\n",
    "    elif x == 5.0: ## pole line Green\n",
    "        df['g'][idx] = 255\n",
    "    elif x == 6.0: ## fences Light Blue\n",
    "        df['r'][idx] = 164\n",
    "        df['g'][idx] = 219\n",
    "        df['b'][idx] = 232\n",
    "    elif x == 7.0: ## pole Orange\n",
    "        df['r'][idx] = 255\n",
    "        df['g'][idx] = 172\n",
    "    elif x == 8.0: ## house Red\n",
    "        df['r'][idx] = 200\n",
    "    # elif x == 9.0: ## undefined Black\n",
    "        # df['r'][idx] = 0\n",
    "        # df['g'][idx] = 0\n",
    "        # df['b'][idx] = 0"
   ]
  },
  {
   "cell_type": "code",
   "execution_count": 25,
   "id": "7065bd00-96dc-4e0f-a195-045481c7ae26",
   "metadata": {},
   "outputs": [],
   "source": [
    "arr = df.to_numpy()"
   ]
  },
  {
   "cell_type": "code",
   "execution_count": 26,
   "id": "913d856d-7a05-4630-8544-d0b22a8cda53",
   "metadata": {},
   "outputs": [],
   "source": [
    "some_arr = np.array([tuple(i) for i in arr], dtype=[('x', 'f4'), ('y', 'f4'), ('z', 'f4'),('class', 'f4'),('red', 'u1'), ('green', 'u1'), ('blue', 'u1')])"
   ]
  },
  {
   "cell_type": "code",
   "execution_count": 27,
   "id": "b667ec43-c8e1-4b49-add3-5037f3619635",
   "metadata": {},
   "outputs": [
    {
     "data": {
      "text/plain": [
       "array([(744.435, 1098.17, 195.235  , 1.,   0, 0, 95),\n",
       "       (746.505, 1098.18, 195.21501, 1.,   0, 0, 95),\n",
       "       (753.795, 1098.25, 195.085  , 1.,   0, 0, 95), ...,\n",
       "       (488.005, 1072.71, 207.865  , 8., 200, 0,  0),\n",
       "       (490.855, 1075.15, 206.85501, 8., 200, 0,  0),\n",
       "       (490.485, 1075.66, 206.835  , 8., 200, 0,  0)],\n",
       "      dtype=[('x', '<f4'), ('y', '<f4'), ('z', '<f4'), ('class', '<f4'), ('red', 'u1'), ('green', 'u1'), ('blue', 'u1')])"
      ]
     },
     "execution_count": 27,
     "metadata": {},
     "output_type": "execute_result"
    }
   ],
   "source": [
    "some_arr"
   ]
  },
  {
   "cell_type": "code",
   "execution_count": 28,
   "id": "dd7940eb-30cd-46f0-b98d-82b0bf45fb61",
   "metadata": {},
   "outputs": [],
   "source": [
    "el = PlyElement.describe(some_arr, 'vertex')"
   ]
  },
  {
   "cell_type": "code",
   "execution_count": null,
   "id": "de795f62-a090-4912-ad08-351c49fa0e17",
   "metadata": {},
   "outputs": [],
   "source": []
  },
  {
   "cell_type": "code",
   "execution_count": 29,
   "id": "3c0bf39a-6c08-4a6b-9733-6b57bf4c3a50",
   "metadata": {},
   "outputs": [],
   "source": [
    "PlyData([el], text=True).write('davis_008_visual.ply')"
   ]
  },
  {
   "cell_type": "code",
   "execution_count": null,
   "id": "72722326-419f-4d7a-aecb-52784ad66711",
   "metadata": {},
   "outputs": [],
   "source": []
  },
  {
   "cell_type": "code",
   "execution_count": 30,
   "id": "8c089329-e1e9-4173-9eb6-d51c8d182deb",
   "metadata": {},
   "outputs": [
    {
     "data": {
      "text/plain": [
       "0"
      ]
     },
     "execution_count": 30,
     "metadata": {},
     "output_type": "execute_result"
    }
   ],
   "source": [
    "100 % 1"
   ]
  },
  {
   "cell_type": "code",
   "execution_count": 31,
   "id": "076e763d-1c82-4c7e-a39f-c234925cc955",
   "metadata": {},
   "outputs": [
    {
     "data": {
      "text/plain": [
       "2595810"
      ]
     },
     "execution_count": 31,
     "metadata": {},
     "output_type": "execute_result"
    }
   ],
   "source": [
    "len(arr)"
   ]
  },
  {
   "cell_type": "code",
   "execution_count": null,
   "id": "56eaee73-a989-4935-9af7-36c765a712fc",
   "metadata": {},
   "outputs": [],
   "source": []
  }
 ],
 "metadata": {
  "kernelspec": {
   "display_name": "Python 3 (ipykernel)",
   "language": "python",
   "name": "python3"
  },
  "language_info": {
   "codemirror_mode": {
    "name": "ipython",
    "version": 3
   },
   "file_extension": ".py",
   "mimetype": "text/x-python",
   "name": "python",
   "nbconvert_exporter": "python",
   "pygments_lexer": "ipython3",
   "version": "3.10.6"
  }
 },
 "nbformat": 4,
 "nbformat_minor": 5
}
